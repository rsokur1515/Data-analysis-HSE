{
 "cells": [
  {
   "cell_type": "markdown",
   "id": "911da6e0",
   "metadata": {},
   "source": [
    "<center>\n",
    "<img src=\"https://i.ibb.co/Ycs11Fg/meme.jpg\">\n",
    "</center>\n",
    "\n",
    "# Андан на экономе: домашнее задание 3\n",
    "## Задача классификации"
   ]
  },
  {
   "cell_type": "markdown",
   "id": "c2e40eb8",
   "metadata": {},
   "source": [
    "**ФИО:** Сокуров Рустам Астемирович\n"
   ]
  },
  {
   "cell_type": "markdown",
   "id": "1cfbbcc0",
   "metadata": {},
   "source": [
    "## Общая информация\n",
    "\n",
    "\n",
    "__Дата выдачи:__ 14.04.2023\n",
    "\n",
    "__Мягкий дедлайн:__ 23:59MSK 07.05.2023\n",
    "\n",
    "__Жесткий дедлайн:__ 23:59MSK 14.05.2023"
   ]
  },
  {
   "cell_type": "markdown",
   "id": "8d84cd39",
   "metadata": {},
   "source": [
    "## Оценивание и штрафы\n",
    "\n",
    "Каждая из задач имеет определенную «стоимость» (указана в скобках около задачи). Максимально допустимая оценка за работу — 100 баллов. За каждый день просрочки после мягкого дедлайна снимается 10 баллов. После жёсткого дедлайна работы не принимаются. Даже при опозданиии на одну секунду. Сдавайте работы заранее.\n",
    "\n",
    "Мягкий дедлайн можно отодвинуть без потери баллов на 1,2 или 3 дня. Суммарно для откладывания в запасе есть три дня. Можно отодвинуть один дедлайн на три дня, а можно три дедлайна подвинуть на один день. Распоряжаться этими днями студент может как угодно. Жёсткий дедлайн, при этом, не меняется. Если такое произошло, нужно сообщить о сдвиге при сдаче работы.\n",
    "\n",
    "Задание выполняется самостоятельно. «Похожие» решения считаются плагиатом и все задействованные студенты (в том числе те, у кого списали) не могут получить за него больше 0 баллов. Если вы нашли решение какого-то из заданий (или его часть) в открытом источнике, необходимо указать ссылку на этот источник (скорее всего вы будете не единственным, кто это нашел, поэтому чтобы исключить подозрение в плагиате, необходима ссылка на источник).\n",
    "\n",
    "Любой из студентов может быть вызван на защиту любого домашнего задания. В таком случае итоговая оценка студента определяется в результате защиты.\n",
    "\n",
    "> За отсутствие названий графиков и подписей к осям могут снижаться баллы. Все картинки должны быть самодостаточны и визуально удобны для восприятия, так чтобы не нужно было смотреть ваш код или знать задание, чтобы понять что на них изображено. \n",
    "\n",
    "> Выводы должны быть релевантными. Не забывайте их писать. Если в вопросе требуется ответ словами, а его нет, вы будете терять довольно много баллов.\n",
    "\n",
    "> Фиксируйте все seed'ы, random_state'ы и тд - ваш код должен быть воспроизводим с теми же результатами."
   ]
  },
  {
   "cell_type": "markdown",
   "id": "9c9727df",
   "metadata": {},
   "source": [
    "## Формат сдачи\n",
    "\n",
    "Сам ноутбук называйте в формате hw-03-USERNAME.ipynb, где USERNAME — ваши фамилия и имя. Файл сдаётся в anytask."
   ]
  },
  {
   "cell_type": "markdown",
   "id": "7b55058a",
   "metadata": {},
   "source": [
    "## Импорт необходимых библиотек "
   ]
  },
  {
   "cell_type": "markdown",
   "id": "f7deb1cc",
   "metadata": {},
   "source": [
    "Импортируйте все используемые библиотеки здесь."
   ]
  },
  {
   "cell_type": "code",
   "execution_count": 1,
   "id": "9311e523",
   "metadata": {},
   "outputs": [],
   "source": [
    "# Ваш код здесь\n",
    "import pandas as pd\n",
    "import numpy as np\n",
    "import matplotlib.pyplot as plt\n",
    "import seaborn as sns\n",
    "from sklearn.linear_model import LogisticRegression\n",
    "from sklearn.model_selection import train_test_split\n",
    "from sklearn.preprocessing import OneHotEncoder, StandardScaler\n",
    "from sklearn.compose import ColumnTransformer\n",
    "from sklearn.pipeline import Pipeline\n",
    "from sklearn.model_selection import GridSearchCV\n",
    "from sklearn.linear_model import LogisticRegression\n",
    "from sklearn.neighbors import KNeighborsClassifier\n",
    "from sklearn.metrics import confusion_matrix\n",
    "from sklearn.metrics import accuracy_score\n",
    "from sklearn.metrics import precision_score, recall_score\n",
    "from sklearn.metrics import f1_score\n",
    "from sklearn.metrics import roc_auc_score\n",
    "from sklearn.ensemble import RandomForestClassifier\n",
    "from sklearn.model_selection import train_test_split\n",
    "from sklearn.metrics import roc_auc_score\n",
    "from sklearn.preprocessing import StandardScaler, RobustScaler\n",
    "from sklearn.ensemble import BaggingClassifier\n",
    "from sklearn.ensemble import AdaBoostClassifier\n",
    "\n",
    "\n",
    "\n",
    "# Отключение некоторых лишних предупреждений\n",
    "import warnings\n",
    "warnings.filterwarnings(\"ignore\")"
   ]
  },
  {
   "cell_type": "markdown",
   "id": "8e5cf1b8",
   "metadata": {},
   "source": [
    "## Задача "
   ]
  },
  {
   "cell_type": "markdown",
   "id": "c6f6920e",
   "metadata": {},
   "source": [
    "В данном задании вам необходимо построить предсказательную модель, определяющую пол клиента по его банковским транзакциям.\n",
    "\n",
    "Вам доступны 2 файла:\n",
    "* __transaction.csv__ - файл с транзакциями, колонки:\n",
    "    * user_id - целочисленный идентификатор пользователя\n",
    "    * dt - дата и время совершения транзации, принцип кодирования: \"DAY TIME\"\n",
    "        * DAY - порядковый день транзации с начала сбора данных\n",
    "        * TIME - время в формате hh:mm:ss\n",
    "    * type - тип (категория) совершаемой транзакции\n",
    "    * value - сумма транзакции\n",
    "    \n",
    "* __gender.csv__ - файл с данными о полах клиентов.\n",
    "    * user_id - целочисленный идентификатор пользователя\n",
    "    * gender - целевая переменная, закодированная лейблами 0 и 1. Это сделано:\n",
    "        * a) для удобства\n",
    "        * б) для избежания холиваров о правильности исходных меток \n",
    "\n",
    "Но если вы вдруг захотите похоливарить о том, что метки только две - то заметьте, что о полноте данных мы тоже не утверждаем."
   ]
  },
  {
   "cell_type": "markdown",
   "id": "56da0228",
   "metadata": {},
   "source": [
    "# Часть 1: минималочка [макс 20 баллов]"
   ]
  },
  {
   "cell_type": "markdown",
   "id": "cb568469",
   "metadata": {},
   "source": [
    "В этой части мы с вами попробуем построить самую простую модель для предсказания.\n",
    "\n",
    "Как мы с вами увидим: главная сложность - правильная подготовка данных. В таких задачах то, как именно вы преобразуете данные для обучения модели и будет во много определять её качество.\n",
    "\n",
    "В этой части мы сделаем простое преобразование данных путём простой агрегации данных о величине транзакций. "
   ]
  },
  {
   "cell_type": "markdown",
   "id": "3d8c2bf8",
   "metadata": {},
   "source": [
    "## Загрузка данных [5 баллов] "
   ]
  },
  {
   "cell_type": "markdown",
   "id": "b324b6bb",
   "metadata": {},
   "source": [
    "Скачайте данные для задачи с Яндекс.Диска:\n",
    "https://disk.yandex.ru/d/DGy6bbLaMZmrQg.\n",
    "\n",
    "Загрузите файлы с транзакциями и целевой меткой в pd.DataFrame.\n",
    "\n",
    "__Внимание__: у файла transactions.csv колоночный разделитель - точка с запятой \";\""
   ]
  },
  {
   "cell_type": "code",
   "execution_count": 2,
   "id": "12a08af9",
   "metadata": {},
   "outputs": [
    {
     "data": {
      "text/html": [
       "<div>\n",
       "<style scoped>\n",
       "    .dataframe tbody tr th:only-of-type {\n",
       "        vertical-align: middle;\n",
       "    }\n",
       "\n",
       "    .dataframe tbody tr th {\n",
       "        vertical-align: top;\n",
       "    }\n",
       "\n",
       "    .dataframe thead th {\n",
       "        text-align: right;\n",
       "    }\n",
       "</style>\n",
       "<table border=\"1\" class=\"dataframe\">\n",
       "  <thead>\n",
       "    <tr style=\"text-align: right;\">\n",
       "      <th></th>\n",
       "      <th>user_id</th>\n",
       "      <th>dt</th>\n",
       "      <th>type</th>\n",
       "      <th>value</th>\n",
       "    </tr>\n",
       "  </thead>\n",
       "  <tbody>\n",
       "    <tr>\n",
       "      <th>0</th>\n",
       "      <td>39026145</td>\n",
       "      <td>0 10:23:26</td>\n",
       "      <td>Звонки с использованием телефонов, считывающих...</td>\n",
       "      <td>2695.099</td>\n",
       "    </tr>\n",
       "    <tr>\n",
       "      <th>1</th>\n",
       "      <td>39026145</td>\n",
       "      <td>6 07:08:31</td>\n",
       "      <td>Звонки с использованием телефонов, считывающих...</td>\n",
       "      <td>2358.212</td>\n",
       "    </tr>\n",
       "    <tr>\n",
       "      <th>2</th>\n",
       "      <td>39026145</td>\n",
       "      <td>8 07:06:10</td>\n",
       "      <td>Звонки с использованием телефонов, считывающих...</td>\n",
       "      <td>2807.395</td>\n",
       "    </tr>\n",
       "    <tr>\n",
       "      <th>3</th>\n",
       "      <td>39026145</td>\n",
       "      <td>11 08:49:03</td>\n",
       "      <td>Звонки с использованием телефонов, считывающих...</td>\n",
       "      <td>2695.099</td>\n",
       "    </tr>\n",
       "    <tr>\n",
       "      <th>4</th>\n",
       "      <td>39026145</td>\n",
       "      <td>11 14:12:08</td>\n",
       "      <td>Звонки с использованием телефонов, считывающих...</td>\n",
       "      <td>2695.099</td>\n",
       "    </tr>\n",
       "    <tr>\n",
       "      <th>...</th>\n",
       "      <td>...</td>\n",
       "      <td>...</td>\n",
       "      <td>...</td>\n",
       "      <td>...</td>\n",
       "    </tr>\n",
       "    <tr>\n",
       "      <th>2282462</th>\n",
       "      <td>71902723</td>\n",
       "      <td>290 15:12:09</td>\n",
       "      <td>Агенты и менеджеры по аренде недвижимости</td>\n",
       "      <td>2133.620</td>\n",
       "    </tr>\n",
       "    <tr>\n",
       "      <th>2282463</th>\n",
       "      <td>71942984</td>\n",
       "      <td>248 00:00:00</td>\n",
       "      <td>Агенты и менеджеры по аренде недвижимости</td>\n",
       "      <td>1870.848</td>\n",
       "    </tr>\n",
       "    <tr>\n",
       "      <th>2282464</th>\n",
       "      <td>71942984</td>\n",
       "      <td>375 00:00:00</td>\n",
       "      <td>Агенты и менеджеры по аренде недвижимости</td>\n",
       "      <td>2466.016</td>\n",
       "    </tr>\n",
       "    <tr>\n",
       "      <th>2282465</th>\n",
       "      <td>74289663</td>\n",
       "      <td>27 00:00:00</td>\n",
       "      <td>Агентства по аренде автомобилей</td>\n",
       "      <td>1445.831</td>\n",
       "    </tr>\n",
       "    <tr>\n",
       "      <th>2282466</th>\n",
       "      <td>74289663</td>\n",
       "      <td>42 00:00:00</td>\n",
       "      <td>Агентства по аренде автомобилей</td>\n",
       "      <td>2386.870</td>\n",
       "    </tr>\n",
       "  </tbody>\n",
       "</table>\n",
       "<p>2282467 rows × 4 columns</p>\n",
       "</div>"
      ],
      "text/plain": [
       "          user_id            dt  \\\n",
       "0        39026145    0 10:23:26   \n",
       "1        39026145    6 07:08:31   \n",
       "2        39026145    8 07:06:10   \n",
       "3        39026145   11 08:49:03   \n",
       "4        39026145   11 14:12:08   \n",
       "...           ...           ...   \n",
       "2282462  71902723  290 15:12:09   \n",
       "2282463  71942984  248 00:00:00   \n",
       "2282464  71942984  375 00:00:00   \n",
       "2282465  74289663   27 00:00:00   \n",
       "2282466  74289663   42 00:00:00   \n",
       "\n",
       "                                                      type     value  \n",
       "0        Звонки с использованием телефонов, считывающих...  2695.099  \n",
       "1        Звонки с использованием телефонов, считывающих...  2358.212  \n",
       "2        Звонки с использованием телефонов, считывающих...  2807.395  \n",
       "3        Звонки с использованием телефонов, считывающих...  2695.099  \n",
       "4        Звонки с использованием телефонов, считывающих...  2695.099  \n",
       "...                                                    ...       ...  \n",
       "2282462          Агенты и менеджеры по аренде недвижимости  2133.620  \n",
       "2282463          Агенты и менеджеры по аренде недвижимости  1870.848  \n",
       "2282464          Агенты и менеджеры по аренде недвижимости  2466.016  \n",
       "2282465                    Агентства по аренде автомобилей  1445.831  \n",
       "2282466                    Агентства по аренде автомобилей  2386.870  \n",
       "\n",
       "[2282467 rows x 4 columns]"
      ]
     },
     "execution_count": 2,
     "metadata": {},
     "output_type": "execute_result"
    }
   ],
   "source": [
    "transactions_df = pd.read_csv('transactions.csv', sep=';')\n",
    "transactions_df"
   ]
  },
  {
   "cell_type": "code",
   "execution_count": 3,
   "id": "d7684a2f",
   "metadata": {},
   "outputs": [
    {
     "data": {
      "text/html": [
       "<div>\n",
       "<style scoped>\n",
       "    .dataframe tbody tr th:only-of-type {\n",
       "        vertical-align: middle;\n",
       "    }\n",
       "\n",
       "    .dataframe tbody tr th {\n",
       "        vertical-align: top;\n",
       "    }\n",
       "\n",
       "    .dataframe thead th {\n",
       "        text-align: right;\n",
       "    }\n",
       "</style>\n",
       "<table border=\"1\" class=\"dataframe\">\n",
       "  <thead>\n",
       "    <tr style=\"text-align: right;\">\n",
       "      <th></th>\n",
       "      <th>user_id</th>\n",
       "      <th>gender</th>\n",
       "    </tr>\n",
       "  </thead>\n",
       "  <tbody>\n",
       "    <tr>\n",
       "      <th>0</th>\n",
       "      <td>6740969</td>\n",
       "      <td>1.0</td>\n",
       "    </tr>\n",
       "    <tr>\n",
       "      <th>1</th>\n",
       "      <td>36599781</td>\n",
       "      <td>0.0</td>\n",
       "    </tr>\n",
       "    <tr>\n",
       "      <th>2</th>\n",
       "      <td>91453656</td>\n",
       "      <td>1.0</td>\n",
       "    </tr>\n",
       "    <tr>\n",
       "      <th>3</th>\n",
       "      <td>17431962</td>\n",
       "      <td>1.0</td>\n",
       "    </tr>\n",
       "    <tr>\n",
       "      <th>4</th>\n",
       "      <td>72568668</td>\n",
       "      <td>1.0</td>\n",
       "    </tr>\n",
       "    <tr>\n",
       "      <th>...</th>\n",
       "      <td>...</td>\n",
       "      <td>...</td>\n",
       "    </tr>\n",
       "    <tr>\n",
       "      <th>8395</th>\n",
       "      <td>93715144</td>\n",
       "      <td>1.0</td>\n",
       "    </tr>\n",
       "    <tr>\n",
       "      <th>8396</th>\n",
       "      <td>51502229</td>\n",
       "      <td>0.0</td>\n",
       "    </tr>\n",
       "    <tr>\n",
       "      <th>8397</th>\n",
       "      <td>77655748</td>\n",
       "      <td>1.0</td>\n",
       "    </tr>\n",
       "    <tr>\n",
       "      <th>8398</th>\n",
       "      <td>87819773</td>\n",
       "      <td>1.0</td>\n",
       "    </tr>\n",
       "    <tr>\n",
       "      <th>8399</th>\n",
       "      <td>14178332</td>\n",
       "      <td>1.0</td>\n",
       "    </tr>\n",
       "  </tbody>\n",
       "</table>\n",
       "<p>8400 rows × 2 columns</p>\n",
       "</div>"
      ],
      "text/plain": [
       "       user_id  gender\n",
       "0      6740969     1.0\n",
       "1     36599781     0.0\n",
       "2     91453656     1.0\n",
       "3     17431962     1.0\n",
       "4     72568668     1.0\n",
       "...        ...     ...\n",
       "8395  93715144     1.0\n",
       "8396  51502229     0.0\n",
       "8397  77655748     1.0\n",
       "8398  87819773     1.0\n",
       "8399  14178332     1.0\n",
       "\n",
       "[8400 rows x 2 columns]"
      ]
     },
     "execution_count": 3,
     "metadata": {},
     "output_type": "execute_result"
    }
   ],
   "source": [
    "gender_df = pd.read_csv('gender.csv')\n",
    "gender_df"
   ]
  },
  {
   "cell_type": "markdown",
   "id": "ad3a83c9",
   "metadata": {},
   "source": [
    "## Подготовка данных [10 баллов] \n",
    "\n",
    "Для данной задачи необходимо как-то собрать данные для каждого пользователя в один вектор (строку таблицы). Сейчас, как вы можете увидеть, в таблице с данными одному пользователю может соответствовать много строк (каждая операция - отдельная строка).\n",
    "\n",
    "Таким образом, необходима агрегация данных - это можно сделать множеством разных способов."
   ]
  },
  {
   "cell_type": "markdown",
   "id": "567817e8",
   "metadata": {},
   "source": [
    "### Агрегация "
   ]
  },
  {
   "cell_type": "markdown",
   "id": "e3c812ef",
   "metadata": {},
   "source": [
    "Произведите простую агрегацию данных и для каждого пользователя в качестве признаков получите сумму, среднее и стандартное отклонение величины его транзакций. \n",
    "\n",
    "Так же добавите для каждого пользователя колонку с таргетом.\n",
    "\n",
    "По итогу вы должны получить таблицу с колонками:\n",
    "* user_id\n",
    "* value_sum\n",
    "* value_mean\n",
    "* value_std\n",
    "* gender"
   ]
  },
  {
   "cell_type": "code",
   "execution_count": 4,
   "id": "fae2c4e0",
   "metadata": {},
   "outputs": [],
   "source": [
    "transactions_df = transactions_df.groupby('user_id').agg(['sum', 'mean', 'std'])['value']\n",
    "# выполняю аггрегацию, беру столбец ['value'], чтобы избавиться от мультииндекса\n",
    "# Опирался на ChatGPT\n",
    "# Подводка: Произведите простую агрегацию данных в таблице df при помощи pandas и для каждого пользователя в качестве признаков получите сумму, среднее и стандартное отклонение величины его транзакций.\n",
    "\n",
    "#Так же добавите для каждого пользователя колонку с таргетом.\n",
    "\n",
    "#По итогу вы должны получить таблицу с колонками:\n",
    "\n",
    "#user_id\n",
    "#value_sum\n",
    "#value_mean\n",
    "#value_std\n",
    "#gender"
   ]
  },
  {
   "cell_type": "code",
   "execution_count": 5,
   "id": "9ff94c8d",
   "metadata": {},
   "outputs": [],
   "source": [
    "transactions_df = transactions_df.rename(columns={'sum': 'value_sum', 'mean': 'value_mean', 'std': 'value_std'})\n",
    "# переименовываю столбцы, чтобы они назывались так, как требуется в условии\n",
    "# Источник: https://www.codecamp.ru/blog/pandas-rename-columns/"
   ]
  },
  {
   "cell_type": "code",
   "execution_count": 6,
   "id": "cc89f8b4",
   "metadata": {},
   "outputs": [
    {
     "data": {
      "text/html": [
       "<div>\n",
       "<style scoped>\n",
       "    .dataframe tbody tr th:only-of-type {\n",
       "        vertical-align: middle;\n",
       "    }\n",
       "\n",
       "    .dataframe tbody tr th {\n",
       "        vertical-align: top;\n",
       "    }\n",
       "\n",
       "    .dataframe thead th {\n",
       "        text-align: right;\n",
       "    }\n",
       "</style>\n",
       "<table border=\"1\" class=\"dataframe\">\n",
       "  <thead>\n",
       "    <tr style=\"text-align: right;\">\n",
       "      <th></th>\n",
       "      <th>value_sum</th>\n",
       "      <th>value_mean</th>\n",
       "      <th>value_std</th>\n",
       "    </tr>\n",
       "    <tr>\n",
       "      <th>user_id</th>\n",
       "      <th></th>\n",
       "      <th></th>\n",
       "      <th></th>\n",
       "    </tr>\n",
       "  </thead>\n",
       "  <tbody>\n",
       "    <tr>\n",
       "      <th>22899</th>\n",
       "      <td>274383.315</td>\n",
       "      <td>2143.619648</td>\n",
       "      <td>656.186785</td>\n",
       "    </tr>\n",
       "    <tr>\n",
       "      <th>27914</th>\n",
       "      <td>166436.523</td>\n",
       "      <td>2521.765500</td>\n",
       "      <td>415.972053</td>\n",
       "    </tr>\n",
       "    <tr>\n",
       "      <th>28753</th>\n",
       "      <td>251578.185</td>\n",
       "      <td>1980.930591</td>\n",
       "      <td>749.304999</td>\n",
       "    </tr>\n",
       "    <tr>\n",
       "      <th>31385</th>\n",
       "      <td>717856.052</td>\n",
       "      <td>2323.158744</td>\n",
       "      <td>632.491585</td>\n",
       "    </tr>\n",
       "    <tr>\n",
       "      <th>38084</th>\n",
       "      <td>1360028.958</td>\n",
       "      <td>2095.576206</td>\n",
       "      <td>649.030870</td>\n",
       "    </tr>\n",
       "  </tbody>\n",
       "</table>\n",
       "</div>"
      ],
      "text/plain": [
       "           value_sum   value_mean   value_std\n",
       "user_id                                      \n",
       "22899     274383.315  2143.619648  656.186785\n",
       "27914     166436.523  2521.765500  415.972053\n",
       "28753     251578.185  1980.930591  749.304999\n",
       "31385     717856.052  2323.158744  632.491585\n",
       "38084    1360028.958  2095.576206  649.030870"
      ]
     },
     "execution_count": 6,
     "metadata": {},
     "output_type": "execute_result"
    }
   ],
   "source": [
    "transactions_df.head()\n",
    "# проверяю, что получилось"
   ]
  },
  {
   "cell_type": "code",
   "execution_count": 7,
   "id": "4dc057a4",
   "metadata": {},
   "outputs": [],
   "source": [
    "df = pd.merge(transactions_df, gender_df, on='user_id')\n",
    "# объединяю два датасета в один"
   ]
  },
  {
   "cell_type": "code",
   "execution_count": 8,
   "id": "e726289b",
   "metadata": {},
   "outputs": [
    {
     "data": {
      "text/html": [
       "<div>\n",
       "<style scoped>\n",
       "    .dataframe tbody tr th:only-of-type {\n",
       "        vertical-align: middle;\n",
       "    }\n",
       "\n",
       "    .dataframe tbody tr th {\n",
       "        vertical-align: top;\n",
       "    }\n",
       "\n",
       "    .dataframe thead th {\n",
       "        text-align: right;\n",
       "    }\n",
       "</style>\n",
       "<table border=\"1\" class=\"dataframe\">\n",
       "  <thead>\n",
       "    <tr style=\"text-align: right;\">\n",
       "      <th></th>\n",
       "      <th>user_id</th>\n",
       "      <th>value_sum</th>\n",
       "      <th>value_mean</th>\n",
       "      <th>value_std</th>\n",
       "      <th>gender</th>\n",
       "    </tr>\n",
       "  </thead>\n",
       "  <tbody>\n",
       "    <tr>\n",
       "      <th>0</th>\n",
       "      <td>22899</td>\n",
       "      <td>274383.315</td>\n",
       "      <td>2143.619648</td>\n",
       "      <td>656.186785</td>\n",
       "      <td>1.0</td>\n",
       "    </tr>\n",
       "    <tr>\n",
       "      <th>1</th>\n",
       "      <td>27914</td>\n",
       "      <td>166436.523</td>\n",
       "      <td>2521.765500</td>\n",
       "      <td>415.972053</td>\n",
       "      <td>1.0</td>\n",
       "    </tr>\n",
       "    <tr>\n",
       "      <th>2</th>\n",
       "      <td>28753</td>\n",
       "      <td>251578.185</td>\n",
       "      <td>1980.930591</td>\n",
       "      <td>749.304999</td>\n",
       "      <td>0.0</td>\n",
       "    </tr>\n",
       "    <tr>\n",
       "      <th>3</th>\n",
       "      <td>31385</td>\n",
       "      <td>717856.052</td>\n",
       "      <td>2323.158744</td>\n",
       "      <td>632.491585</td>\n",
       "      <td>0.0</td>\n",
       "    </tr>\n",
       "    <tr>\n",
       "      <th>4</th>\n",
       "      <td>38084</td>\n",
       "      <td>1360028.958</td>\n",
       "      <td>2095.576206</td>\n",
       "      <td>649.030870</td>\n",
       "      <td>0.0</td>\n",
       "    </tr>\n",
       "  </tbody>\n",
       "</table>\n",
       "</div>"
      ],
      "text/plain": [
       "   user_id    value_sum   value_mean   value_std  gender\n",
       "0    22899   274383.315  2143.619648  656.186785     1.0\n",
       "1    27914   166436.523  2521.765500  415.972053     1.0\n",
       "2    28753   251578.185  1980.930591  749.304999     0.0\n",
       "3    31385   717856.052  2323.158744  632.491585     0.0\n",
       "4    38084  1360028.958  2095.576206  649.030870     0.0"
      ]
     },
     "execution_count": 8,
     "metadata": {},
     "output_type": "execute_result"
    }
   ],
   "source": [
    "df.head()\n",
    "# смотрю, что вышло - все вроде кул"
   ]
  },
  {
   "cell_type": "code",
   "execution_count": 9,
   "id": "81e63ade",
   "metadata": {},
   "outputs": [
    {
     "data": {
      "text/plain": [
       "user_id        0\n",
       "value_sum      0\n",
       "value_mean     0\n",
       "value_std     47\n",
       "gender         0\n",
       "dtype: int64"
      ]
     },
     "execution_count": 9,
     "metadata": {},
     "output_type": "execute_result"
    }
   ],
   "source": [
    "df.isnull().sum()\n",
    "# в дальнейшем нельзя будет построить модель, если в данных есть пропуски\n",
    "# поэтому проверяю данные на наличие пропусков"
   ]
  },
  {
   "cell_type": "code",
   "execution_count": 10,
   "id": "76db1d75",
   "metadata": {},
   "outputs": [],
   "source": [
    "df = df.fillna(0)\n",
    "# обнаружилось 47 пропусков в подсчете стандартного отклонения\n",
    "# согласно документации, такое бывает, когда std берется от одного значения (в нашем случае, когда пользователь совершил одну покупку)\n",
    "# по смыслу, если стд считается от одного значения, оно скорее нулевое, поэтому заменяем пропуски на нули"
   ]
  },
  {
   "cell_type": "markdown",
   "id": "194e73a7",
   "metadata": {},
   "source": [
    "### Отложенная выборка "
   ]
  },
  {
   "cell_type": "markdown",
   "id": "d3f431ee",
   "metadata": {},
   "source": [
    "Получите полный список пользователей и разделите их на два списка:\n",
    "* тренировочный список пользователей (80%)\n",
    "* тестовый список пользователей (20%)"
   ]
  },
  {
   "cell_type": "markdown",
   "id": "646a73cf",
   "metadata": {},
   "source": [
    "__Важное замечание__: Далее во всех пунктах, где вам нужно провалидировать (оценить) получившуюся модель исползуйте данные только для этих тестовых пользователей.\n",
    "\n",
    "Обучать все модели, естественно, нужно только на данных пользователей из обучающего списка."
   ]
  },
  {
   "cell_type": "code",
   "execution_count": 11,
   "id": "a74ea5aa",
   "metadata": {},
   "outputs": [],
   "source": [
    "df_train_users, df_test_users = train_test_split(df['user_id'], test_size=0.2, random_state=42)\n",
    "# разбиваю всех пользователей на тренировочных и тестовых"
   ]
  },
  {
   "cell_type": "markdown",
   "id": "c4e54aa8",
   "metadata": {},
   "source": [
    "Для нашей задачи получите признаки и целевые метки обучающей и тестовой выборки. "
   ]
  },
  {
   "cell_type": "code",
   "execution_count": 12,
   "id": "e947e769",
   "metadata": {},
   "outputs": [
    {
     "data": {
      "text/html": [
       "<div>\n",
       "<style scoped>\n",
       "    .dataframe tbody tr th:only-of-type {\n",
       "        vertical-align: middle;\n",
       "    }\n",
       "\n",
       "    .dataframe tbody tr th {\n",
       "        vertical-align: top;\n",
       "    }\n",
       "\n",
       "    .dataframe thead th {\n",
       "        text-align: right;\n",
       "    }\n",
       "</style>\n",
       "<table border=\"1\" class=\"dataframe\">\n",
       "  <thead>\n",
       "    <tr style=\"text-align: right;\">\n",
       "      <th></th>\n",
       "      <th>value_sum</th>\n",
       "      <th>value_mean</th>\n",
       "      <th>value_std</th>\n",
       "      <th>gender</th>\n",
       "    </tr>\n",
       "  </thead>\n",
       "  <tbody>\n",
       "    <tr>\n",
       "      <th>5748</th>\n",
       "      <td>1173100.496</td>\n",
       "      <td>2121.339052</td>\n",
       "      <td>648.927367</td>\n",
       "      <td>0.0</td>\n",
       "    </tr>\n",
       "    <tr>\n",
       "      <th>8265</th>\n",
       "      <td>60567.872</td>\n",
       "      <td>2088.547310</td>\n",
       "      <td>699.126190</td>\n",
       "      <td>1.0</td>\n",
       "    </tr>\n",
       "    <tr>\n",
       "      <th>7226</th>\n",
       "      <td>344822.111</td>\n",
       "      <td>2345.728646</td>\n",
       "      <td>629.517408</td>\n",
       "      <td>0.0</td>\n",
       "    </tr>\n",
       "    <tr>\n",
       "      <th>5008</th>\n",
       "      <td>432202.592</td>\n",
       "      <td>2323.669849</td>\n",
       "      <td>618.171346</td>\n",
       "      <td>1.0</td>\n",
       "    </tr>\n",
       "    <tr>\n",
       "      <th>5382</th>\n",
       "      <td>878254.206</td>\n",
       "      <td>2131.684966</td>\n",
       "      <td>598.752898</td>\n",
       "      <td>0.0</td>\n",
       "    </tr>\n",
       "  </tbody>\n",
       "</table>\n",
       "</div>"
      ],
      "text/plain": [
       "        value_sum   value_mean   value_std  gender\n",
       "5748  1173100.496  2121.339052  648.927367     0.0\n",
       "8265    60567.872  2088.547310  699.126190     1.0\n",
       "7226   344822.111  2345.728646  629.517408     0.0\n",
       "5008   432202.592  2323.669849  618.171346     1.0\n",
       "5382   878254.206  2131.684966  598.752898     0.0"
      ]
     },
     "execution_count": 12,
     "metadata": {},
     "output_type": "execute_result"
    }
   ],
   "source": [
    "df_test = (df.loc[df_test_users.index]).drop('user_id', axis=1)\n",
    "# получаю признаки и целевые метки тестовой выборки (для этого обращаюсь к индексам по полученным пользовательским id)\n",
    "df_test.head()\n",
    "# смотрю, все ли ок"
   ]
  },
  {
   "cell_type": "code",
   "execution_count": 13,
   "id": "22a76c49",
   "metadata": {},
   "outputs": [
    {
     "data": {
      "text/html": [
       "<div>\n",
       "<style scoped>\n",
       "    .dataframe tbody tr th:only-of-type {\n",
       "        vertical-align: middle;\n",
       "    }\n",
       "\n",
       "    .dataframe tbody tr th {\n",
       "        vertical-align: top;\n",
       "    }\n",
       "\n",
       "    .dataframe thead th {\n",
       "        text-align: right;\n",
       "    }\n",
       "</style>\n",
       "<table border=\"1\" class=\"dataframe\">\n",
       "  <thead>\n",
       "    <tr style=\"text-align: right;\">\n",
       "      <th></th>\n",
       "      <th>value_sum</th>\n",
       "      <th>value_mean</th>\n",
       "      <th>value_std</th>\n",
       "      <th>gender</th>\n",
       "    </tr>\n",
       "  </thead>\n",
       "  <tbody>\n",
       "    <tr>\n",
       "      <th>734</th>\n",
       "      <td>966508.266</td>\n",
       "      <td>2030.479550</td>\n",
       "      <td>692.608559</td>\n",
       "      <td>1.0</td>\n",
       "    </tr>\n",
       "    <tr>\n",
       "      <th>196</th>\n",
       "      <td>1017783.773</td>\n",
       "      <td>1827.259916</td>\n",
       "      <td>754.389893</td>\n",
       "      <td>1.0</td>\n",
       "    </tr>\n",
       "    <tr>\n",
       "      <th>5744</th>\n",
       "      <td>122371.916</td>\n",
       "      <td>1942.411365</td>\n",
       "      <td>613.049411</td>\n",
       "      <td>0.0</td>\n",
       "    </tr>\n",
       "    <tr>\n",
       "      <th>3881</th>\n",
       "      <td>1453377.785</td>\n",
       "      <td>1707.846986</td>\n",
       "      <td>785.032099</td>\n",
       "      <td>1.0</td>\n",
       "    </tr>\n",
       "    <tr>\n",
       "      <th>1174</th>\n",
       "      <td>746873.903</td>\n",
       "      <td>1876.567595</td>\n",
       "      <td>701.367471</td>\n",
       "      <td>0.0</td>\n",
       "    </tr>\n",
       "  </tbody>\n",
       "</table>\n",
       "</div>"
      ],
      "text/plain": [
       "        value_sum   value_mean   value_std  gender\n",
       "734    966508.266  2030.479550  692.608559     1.0\n",
       "196   1017783.773  1827.259916  754.389893     1.0\n",
       "5744   122371.916  1942.411365  613.049411     0.0\n",
       "3881  1453377.785  1707.846986  785.032099     1.0\n",
       "1174   746873.903  1876.567595  701.367471     0.0"
      ]
     },
     "execution_count": 13,
     "metadata": {},
     "output_type": "execute_result"
    }
   ],
   "source": [
    "df_train = (df.loc[df_train_users.index]).drop('user_id', axis=1)\n",
    "# получаю признаки и целевые метки обучающей выборки (для этого обращаюсь к индексам по полученным пользовательским id)\n",
    "df_train.head()\n",
    "# смотрю, что получилось"
   ]
  },
  {
   "cell_type": "code",
   "execution_count": 14,
   "id": "6e4a02d9",
   "metadata": {},
   "outputs": [],
   "source": [
    "# осуществляю разбивку по признакам и целевым меткам обучающей и тестовой выборки\n",
    "y_train = df_train['gender']\n",
    "y_test = df_test['gender'] \n",
    "X_train = df_train.drop('gender', axis=1)\n",
    "X_test = df_test.drop('gender', axis=1)"
   ]
  },
  {
   "cell_type": "code",
   "execution_count": 15,
   "id": "8560de49",
   "metadata": {},
   "outputs": [
    {
     "data": {
      "text/html": [
       "<div>\n",
       "<style scoped>\n",
       "    .dataframe tbody tr th:only-of-type {\n",
       "        vertical-align: middle;\n",
       "    }\n",
       "\n",
       "    .dataframe tbody tr th {\n",
       "        vertical-align: top;\n",
       "    }\n",
       "\n",
       "    .dataframe thead th {\n",
       "        text-align: right;\n",
       "    }\n",
       "</style>\n",
       "<table border=\"1\" class=\"dataframe\">\n",
       "  <thead>\n",
       "    <tr style=\"text-align: right;\">\n",
       "      <th></th>\n",
       "      <th>value_sum</th>\n",
       "      <th>value_mean</th>\n",
       "      <th>value_std</th>\n",
       "    </tr>\n",
       "  </thead>\n",
       "  <tbody>\n",
       "    <tr>\n",
       "      <th>734</th>\n",
       "      <td>966508.266</td>\n",
       "      <td>2030.479550</td>\n",
       "      <td>692.608559</td>\n",
       "    </tr>\n",
       "    <tr>\n",
       "      <th>196</th>\n",
       "      <td>1017783.773</td>\n",
       "      <td>1827.259916</td>\n",
       "      <td>754.389893</td>\n",
       "    </tr>\n",
       "    <tr>\n",
       "      <th>5744</th>\n",
       "      <td>122371.916</td>\n",
       "      <td>1942.411365</td>\n",
       "      <td>613.049411</td>\n",
       "    </tr>\n",
       "    <tr>\n",
       "      <th>3881</th>\n",
       "      <td>1453377.785</td>\n",
       "      <td>1707.846986</td>\n",
       "      <td>785.032099</td>\n",
       "    </tr>\n",
       "    <tr>\n",
       "      <th>1174</th>\n",
       "      <td>746873.903</td>\n",
       "      <td>1876.567595</td>\n",
       "      <td>701.367471</td>\n",
       "    </tr>\n",
       "  </tbody>\n",
       "</table>\n",
       "</div>"
      ],
      "text/plain": [
       "        value_sum   value_mean   value_std\n",
       "734    966508.266  2030.479550  692.608559\n",
       "196   1017783.773  1827.259916  754.389893\n",
       "5744   122371.916  1942.411365  613.049411\n",
       "3881  1453377.785  1707.846986  785.032099\n",
       "1174   746873.903  1876.567595  701.367471"
      ]
     },
     "execution_count": 15,
     "metadata": {},
     "output_type": "execute_result"
    }
   ],
   "source": [
    "X_train.head()\n",
    "# смотрю на тестовую выборку, чтобы удостовериться, что все обработалось"
   ]
  },
  {
   "cell_type": "markdown",
   "id": "852a5e0c",
   "metadata": {},
   "source": [
    "## Обучение и оценка модели [5 баллов] "
   ]
  },
  {
   "cell_type": "markdown",
   "id": "0d3a14bb",
   "metadata": {},
   "source": [
    "Обучите модель логистической регрессии с дефолтными параметрами.\n",
    "\n",
    "Получите предсказания вероятностей первого класса."
   ]
  },
  {
   "cell_type": "code",
   "execution_count": 16,
   "id": "9b458875",
   "metadata": {},
   "outputs": [],
   "source": [
    "model_lr = Pipeline(steps=[\n",
    "    ('regression', LogisticRegression(random_state=42))\n",
    "])\n",
    "# задаю модель лог регрессии через пайплайн\n",
    "# я и сам не знаю, зачем мне тут пайплайн, можно было, конечно, без него"
   ]
  },
  {
   "cell_type": "code",
   "execution_count": 17,
   "id": "e1527651",
   "metadata": {},
   "outputs": [
    {
     "data": {
      "text/plain": [
       "Pipeline(steps=[('regression', LogisticRegression(random_state=42))])"
      ]
     },
     "execution_count": 17,
     "metadata": {},
     "output_type": "execute_result"
    }
   ],
   "source": [
    "model_lr.fit(X_train, y_train)\n",
    "# обучаю модель на обучающей выборке"
   ]
  },
  {
   "cell_type": "code",
   "execution_count": 18,
   "id": "e1000a9a",
   "metadata": {},
   "outputs": [],
   "source": [
    "y_pred_lr = model_lr.predict(X_test)\n",
    "probas_lr = model_lr.predict_proba(X_test)\n",
    "# в переменную y_probas_lr записываю вероятности, которые выдает модель"
   ]
  },
  {
   "cell_type": "code",
   "execution_count": 19,
   "id": "f40be0b9",
   "metadata": {},
   "outputs": [
    {
     "data": {
      "text/plain": [
       "array([[0.5432675 , 0.4567325 ],\n",
       "       [0.57058321, 0.42941679],\n",
       "       [0.57098106, 0.42901894],\n",
       "       ...,\n",
       "       [0.5663426 , 0.4336574 ],\n",
       "       [0.53286091, 0.46713909],\n",
       "       [0.52319577, 0.47680423]])"
      ]
     },
     "execution_count": 19,
     "metadata": {},
     "output_type": "execute_result"
    }
   ],
   "source": [
    "probas_lr\n",
    "# смотрю на эти вероятности"
   ]
  },
  {
   "cell_type": "code",
   "execution_count": 20,
   "id": "40872a0a",
   "metadata": {},
   "outputs": [
    {
     "data": {
      "text/plain": [
       "array([0.4567325 , 0.42941679, 0.42901894, ..., 0.4336574 , 0.46713909,\n",
       "       0.47680423])"
      ]
     },
     "execution_count": 20,
     "metadata": {},
     "output_type": "execute_result"
    }
   ],
   "source": [
    "probas_lr[:, 1]\n",
    "# определяю, что это срез вероятностей первого класса"
   ]
  },
  {
   "cell_type": "code",
   "execution_count": 21,
   "id": "c3a101a5",
   "metadata": {},
   "outputs": [
    {
     "data": {
      "text/plain": [
       "array([0, 0, 0, ..., 0, 0, 0])"
      ]
     },
     "execution_count": 21,
     "metadata": {},
     "output_type": "execute_result"
    }
   ],
   "source": [
    "t = 0.5\n",
    "# устанавливаю порог (на самом деле, не знаю, зачем, можно было просто взять predict - думал, потом понадобится, но нет)\n",
    "y_pred = 1*(probas_lr >= t)\n",
    "# в переменную y_pred записываю классы определнные моделью (не вероятности)\n",
    "y_pred = y_pred[:, 1]\n",
    "# оставляю предсказания первого класса для посчета метрик, завяисящих от порога\n",
    "y_pred"
   ]
  },
  {
   "cell_type": "markdown",
   "id": "f2345148",
   "metadata": {},
   "source": [
    "### Валидация "
   ]
  },
  {
   "cell_type": "markdown",
   "id": "ee3576b3",
   "metadata": {},
   "source": [
    "Посчитайте ROC_AUC, accuracy, precision, recall для получившихся предсказаний.\n",
    "\n",
    "Для метрик, для которых необходимы метки классов, а не вероятности - используйте порог 0.5.\n",
    "\n",
    "Далее при оценки других моделей приводите эти же метрики (если явно не указано иное)."
   ]
  },
  {
   "cell_type": "code",
   "execution_count": 22,
   "id": "434f611a",
   "metadata": {},
   "outputs": [
    {
     "name": "stdout",
     "output_type": "stream",
     "text": [
      "ROC_AUC этой модели равен 0.5739048182773048\n"
     ]
    }
   ],
   "source": [
    "print(f'ROC_AUC этой модели равен {roc_auc_score(y_test*1, probas_lr[:, 1])}')"
   ]
  },
  {
   "cell_type": "code",
   "execution_count": 23,
   "id": "d524fc08",
   "metadata": {},
   "outputs": [
    {
     "name": "stdout",
     "output_type": "stream",
     "text": [
      "accuracy этой модели равен 0.5580143540669856\n"
     ]
    }
   ],
   "source": [
    "print(f'accuracy этой модели равен {accuracy_score(y_test*1, y_pred)}')"
   ]
  },
  {
   "cell_type": "code",
   "execution_count": 24,
   "id": "173c5823",
   "metadata": {},
   "outputs": [
    {
     "name": "stdout",
     "output_type": "stream",
     "text": [
      "precision этой модели равен 0.3333333333333333\n"
     ]
    }
   ],
   "source": [
    "print(f'precision этой модели равен {precision_score(y_test*1, y_pred)}')"
   ]
  },
  {
   "cell_type": "code",
   "execution_count": 25,
   "id": "eebe0c53",
   "metadata": {},
   "outputs": [
    {
     "name": "stdout",
     "output_type": "stream",
     "text": [
      "recall этой модели равен 0.0013550135501355014\n"
     ]
    }
   ],
   "source": [
    "print(f'recall этой модели равен {recall_score(y_test*1, y_pred)}')"
   ]
  },
  {
   "cell_type": "markdown",
   "id": "9c06a7c5",
   "metadata": {},
   "source": [
    "### Вывод"
   ]
  },
  {
   "cell_type": "markdown",
   "id": "6e95c3d8",
   "metadata": {},
   "source": [
    "Как вы оцениваете качество получившейся модели и возможные причины такого качества?\n",
    "\n",
    "__Ваш вывод:__ модель получилась полное г****. Она ничего нормально не предсказывает. \n",
    "<ol>\n",
    "    <li> ROC_AUC равен  0.57 - модель предсказывает чуть лучше, чем рандомный предсказатель\n",
    "    <li> Accuracy модели 0.56 - что тоже говорит о том, что модель уже очень часто ошибается и ее предсказания практически случайные\n",
    "    <li> Данные по реколл и пресижн говорят о том, что модель практически не распознает первый класс, а те немноги, что распознает - в 6 из 10 случаев ошибается\n",
    "</ol>\n",
    "Возможно, дело в том, что входные параметры практически рандомные и на самом деле по ним практически невозможно угадать, какого гендера покупатель (имеется в виду та агрегация данных, что мы сделали), а возможно дело в том, что надо было поиграться с гиперпараметрами. Забегая вперед, дело именно в признаках, которые по сути практически никак не оценивают переменную. Очевидным этот станет в следующем пункте, где используются другие метки"
   ]
  },
  {
   "cell_type": "markdown",
   "id": "e94a47be",
   "metadata": {},
   "source": [
    "# Часть 2: мб сделаем что-то более серьёзное? [макс 20 баллов]"
   ]
  },
  {
   "cell_type": "markdown",
   "id": "6724dd97",
   "metadata": {},
   "source": [
    "Давайте попробуем улучшить качество решения задачи за счёт другого метода подготовки данных.\n",
    "\n",
    "Ранее мы использовали простое преобразование, когда каждый клиент описывался только 3 значениями.\n",
    "Давайте сделаем что-то более сложное и попробуем добавить больше данных о клиенте для модели."
   ]
  },
  {
   "cell_type": "markdown",
   "id": "c5cf8456",
   "metadata": {},
   "source": [
    "## Подготовка данных [15 баллов]"
   ]
  },
  {
   "cell_type": "markdown",
   "id": "d30f62ce",
   "metadata": {},
   "source": [
    "Воспользуемся тем, что каждая транзакция у нас имеет свой тип - это уж точно более информативно, чем агрегация по всем транзакциям.\n",
    "\n",
    "Создайте сводную таблицу, где для каждого клиента (строка) будут указаны его суммарные траты на каждую категорию (столбец). Таким образом, вы должны получить таблицу с числом строк равным количеству клиентов и числом столбцов - количеству категорий трат. Каждая ячейка должна содержать суммарные траты данного клиента в данной категории.\n",
    "\n",
    "__Подсказка__: у DataFrame есть полезный метод `pivot_table`."
   ]
  },
  {
   "cell_type": "code",
   "execution_count": 26,
   "id": "0997243f",
   "metadata": {},
   "outputs": [],
   "source": [
    "transactions_df = pd.read_csv('transactions.csv', sep=';')\n",
    "# Подгружаю датасет"
   ]
  },
  {
   "cell_type": "code",
   "execution_count": 27,
   "id": "a90e86e4",
   "metadata": {},
   "outputs": [
    {
     "data": {
      "text/html": [
       "<div>\n",
       "<style scoped>\n",
       "    .dataframe tbody tr th:only-of-type {\n",
       "        vertical-align: middle;\n",
       "    }\n",
       "\n",
       "    .dataframe tbody tr th {\n",
       "        vertical-align: top;\n",
       "    }\n",
       "\n",
       "    .dataframe thead th {\n",
       "        text-align: right;\n",
       "    }\n",
       "</style>\n",
       "<table border=\"1\" class=\"dataframe\">\n",
       "  <thead>\n",
       "    <tr style=\"text-align: right;\">\n",
       "      <th>type</th>\n",
       "      <th>Авиалинии, авиакомпании</th>\n",
       "      <th>Авиалинии, авиакомпании, нигде более не классифицированные</th>\n",
       "      <th>Автобусные линии</th>\n",
       "      <th>Автозапчасти и аксессуары</th>\n",
       "      <th>Автоматизированные бензозаправки</th>\n",
       "      <th>Автомойки</th>\n",
       "      <th>Автошины</th>\n",
       "      <th>Агентства по автотранспортным перевозкам, местные/дальные автогрузоперевозки, компании попереезду и хранению, местная доставка</th>\n",
       "      <th>Агентства по аренде автомобилей</th>\n",
       "      <th>Агенты и менеджеры по аренде недвижимости</th>\n",
       "      <th>...</th>\n",
       "      <th>Фотостудии, фотолаборатории</th>\n",
       "      <th>Химикалии и смежные вещества, не классифицированные ранее</th>\n",
       "      <th>Химчистки</th>\n",
       "      <th>Ценные бумаги: брокеры/дилеры</th>\n",
       "      <th>Центры здоровья</th>\n",
       "      <th>Цифровые товары, игры</th>\n",
       "      <th>Школы — бизнес и секретарей</th>\n",
       "      <th>Штрафы</th>\n",
       "      <th>Штучные товары, галантерея и другие текстильные товары</th>\n",
       "      <th>Электрические части и оборудование</th>\n",
       "    </tr>\n",
       "    <tr>\n",
       "      <th>user_id</th>\n",
       "      <th></th>\n",
       "      <th></th>\n",
       "      <th></th>\n",
       "      <th></th>\n",
       "      <th></th>\n",
       "      <th></th>\n",
       "      <th></th>\n",
       "      <th></th>\n",
       "      <th></th>\n",
       "      <th></th>\n",
       "      <th></th>\n",
       "      <th></th>\n",
       "      <th></th>\n",
       "      <th></th>\n",
       "      <th></th>\n",
       "      <th></th>\n",
       "      <th></th>\n",
       "      <th></th>\n",
       "      <th></th>\n",
       "      <th></th>\n",
       "      <th></th>\n",
       "    </tr>\n",
       "  </thead>\n",
       "  <tbody>\n",
       "    <tr>\n",
       "      <th>22899</th>\n",
       "      <td>0.0</td>\n",
       "      <td>0.0</td>\n",
       "      <td>0.0</td>\n",
       "      <td>0.0</td>\n",
       "      <td>0.0</td>\n",
       "      <td>0.0</td>\n",
       "      <td>0.0</td>\n",
       "      <td>0.0</td>\n",
       "      <td>0.0</td>\n",
       "      <td>0.0</td>\n",
       "      <td>...</td>\n",
       "      <td>0.0</td>\n",
       "      <td>0.0</td>\n",
       "      <td>0.0</td>\n",
       "      <td>0.0</td>\n",
       "      <td>0.0</td>\n",
       "      <td>0.0</td>\n",
       "      <td>0.0</td>\n",
       "      <td>0.0</td>\n",
       "      <td>0.0</td>\n",
       "      <td>0.0</td>\n",
       "    </tr>\n",
       "    <tr>\n",
       "      <th>27914</th>\n",
       "      <td>0.0</td>\n",
       "      <td>0.0</td>\n",
       "      <td>0.0</td>\n",
       "      <td>0.0</td>\n",
       "      <td>0.0</td>\n",
       "      <td>0.0</td>\n",
       "      <td>0.0</td>\n",
       "      <td>0.0</td>\n",
       "      <td>0.0</td>\n",
       "      <td>0.0</td>\n",
       "      <td>...</td>\n",
       "      <td>0.0</td>\n",
       "      <td>0.0</td>\n",
       "      <td>0.0</td>\n",
       "      <td>0.0</td>\n",
       "      <td>0.0</td>\n",
       "      <td>0.0</td>\n",
       "      <td>0.0</td>\n",
       "      <td>0.0</td>\n",
       "      <td>0.0</td>\n",
       "      <td>0.0</td>\n",
       "    </tr>\n",
       "    <tr>\n",
       "      <th>28753</th>\n",
       "      <td>0.0</td>\n",
       "      <td>0.0</td>\n",
       "      <td>0.0</td>\n",
       "      <td>0.0</td>\n",
       "      <td>0.0</td>\n",
       "      <td>0.0</td>\n",
       "      <td>0.0</td>\n",
       "      <td>0.0</td>\n",
       "      <td>0.0</td>\n",
       "      <td>0.0</td>\n",
       "      <td>...</td>\n",
       "      <td>0.0</td>\n",
       "      <td>0.0</td>\n",
       "      <td>0.0</td>\n",
       "      <td>0.0</td>\n",
       "      <td>0.0</td>\n",
       "      <td>0.0</td>\n",
       "      <td>0.0</td>\n",
       "      <td>0.0</td>\n",
       "      <td>0.0</td>\n",
       "      <td>0.0</td>\n",
       "    </tr>\n",
       "    <tr>\n",
       "      <th>31385</th>\n",
       "      <td>0.0</td>\n",
       "      <td>0.0</td>\n",
       "      <td>0.0</td>\n",
       "      <td>0.0</td>\n",
       "      <td>0.0</td>\n",
       "      <td>0.0</td>\n",
       "      <td>0.0</td>\n",
       "      <td>0.0</td>\n",
       "      <td>0.0</td>\n",
       "      <td>0.0</td>\n",
       "      <td>...</td>\n",
       "      <td>0.0</td>\n",
       "      <td>0.0</td>\n",
       "      <td>0.0</td>\n",
       "      <td>0.0</td>\n",
       "      <td>0.0</td>\n",
       "      <td>0.0</td>\n",
       "      <td>0.0</td>\n",
       "      <td>0.0</td>\n",
       "      <td>0.0</td>\n",
       "      <td>0.0</td>\n",
       "    </tr>\n",
       "    <tr>\n",
       "      <th>38084</th>\n",
       "      <td>0.0</td>\n",
       "      <td>0.0</td>\n",
       "      <td>0.0</td>\n",
       "      <td>0.0</td>\n",
       "      <td>0.0</td>\n",
       "      <td>0.0</td>\n",
       "      <td>0.0</td>\n",
       "      <td>0.0</td>\n",
       "      <td>0.0</td>\n",
       "      <td>0.0</td>\n",
       "      <td>...</td>\n",
       "      <td>0.0</td>\n",
       "      <td>0.0</td>\n",
       "      <td>0.0</td>\n",
       "      <td>0.0</td>\n",
       "      <td>0.0</td>\n",
       "      <td>0.0</td>\n",
       "      <td>0.0</td>\n",
       "      <td>0.0</td>\n",
       "      <td>0.0</td>\n",
       "      <td>0.0</td>\n",
       "    </tr>\n",
       "  </tbody>\n",
       "</table>\n",
       "<p>5 rows × 184 columns</p>\n",
       "</div>"
      ],
      "text/plain": [
       "type     Авиалинии, авиакомпании  \\\n",
       "user_id                            \n",
       "22899                        0.0   \n",
       "27914                        0.0   \n",
       "28753                        0.0   \n",
       "31385                        0.0   \n",
       "38084                        0.0   \n",
       "\n",
       "type     Авиалинии, авиакомпании, нигде более не классифицированные  \\\n",
       "user_id                                                               \n",
       "22899                                                  0.0            \n",
       "27914                                                  0.0            \n",
       "28753                                                  0.0            \n",
       "31385                                                  0.0            \n",
       "38084                                                  0.0            \n",
       "\n",
       "type     Автобусные линии  Автозапчасти и аксессуары  \\\n",
       "user_id                                                \n",
       "22899                 0.0                        0.0   \n",
       "27914                 0.0                        0.0   \n",
       "28753                 0.0                        0.0   \n",
       "31385                 0.0                        0.0   \n",
       "38084                 0.0                        0.0   \n",
       "\n",
       "type     Автоматизированные бензозаправки  Автомойки  Автошины  \\\n",
       "user_id                                                          \n",
       "22899                                 0.0        0.0       0.0   \n",
       "27914                                 0.0        0.0       0.0   \n",
       "28753                                 0.0        0.0       0.0   \n",
       "31385                                 0.0        0.0       0.0   \n",
       "38084                                 0.0        0.0       0.0   \n",
       "\n",
       "type     Агентства по автотранспортным перевозкам, местные/дальные автогрузоперевозки, компании попереезду и хранению, местная доставка  \\\n",
       "user_id                                                                                                                                   \n",
       "22899                                                  0.0                                                                                \n",
       "27914                                                  0.0                                                                                \n",
       "28753                                                  0.0                                                                                \n",
       "31385                                                  0.0                                                                                \n",
       "38084                                                  0.0                                                                                \n",
       "\n",
       "type     Агентства по аренде автомобилей  \\\n",
       "user_id                                    \n",
       "22899                                0.0   \n",
       "27914                                0.0   \n",
       "28753                                0.0   \n",
       "31385                                0.0   \n",
       "38084                                0.0   \n",
       "\n",
       "type     Агенты и менеджеры по аренде недвижимости  ...  \\\n",
       "user_id                                             ...   \n",
       "22899                                          0.0  ...   \n",
       "27914                                          0.0  ...   \n",
       "28753                                          0.0  ...   \n",
       "31385                                          0.0  ...   \n",
       "38084                                          0.0  ...   \n",
       "\n",
       "type     Фотостудии, фотолаборатории  \\\n",
       "user_id                                \n",
       "22899                            0.0   \n",
       "27914                            0.0   \n",
       "28753                            0.0   \n",
       "31385                            0.0   \n",
       "38084                            0.0   \n",
       "\n",
       "type     Химикалии и смежные вещества, не классифицированные ранее  Химчистки  \\\n",
       "user_id                                                                         \n",
       "22899                                                  0.0                0.0   \n",
       "27914                                                  0.0                0.0   \n",
       "28753                                                  0.0                0.0   \n",
       "31385                                                  0.0                0.0   \n",
       "38084                                                  0.0                0.0   \n",
       "\n",
       "type     Ценные бумаги: брокеры/дилеры  Центры здоровья  \\\n",
       "user_id                                                   \n",
       "22899                              0.0              0.0   \n",
       "27914                              0.0              0.0   \n",
       "28753                              0.0              0.0   \n",
       "31385                              0.0              0.0   \n",
       "38084                              0.0              0.0   \n",
       "\n",
       "type     Цифровые товары, игры  Школы — бизнес и секретарей  Штрафы  \\\n",
       "user_id                                                               \n",
       "22899                      0.0                          0.0     0.0   \n",
       "27914                      0.0                          0.0     0.0   \n",
       "28753                      0.0                          0.0     0.0   \n",
       "31385                      0.0                          0.0     0.0   \n",
       "38084                      0.0                          0.0     0.0   \n",
       "\n",
       "type     Штучные товары, галантерея и другие текстильные товары  \\\n",
       "user_id                                                           \n",
       "22899                                                  0.0        \n",
       "27914                                                  0.0        \n",
       "28753                                                  0.0        \n",
       "31385                                                  0.0        \n",
       "38084                                                  0.0        \n",
       "\n",
       "type     Электрические части и оборудование  \n",
       "user_id                                      \n",
       "22899                                   0.0  \n",
       "27914                                   0.0  \n",
       "28753                                   0.0  \n",
       "31385                                   0.0  \n",
       "38084                                   0.0  \n",
       "\n",
       "[5 rows x 184 columns]"
      ]
     },
     "execution_count": 27,
     "metadata": {},
     "output_type": "execute_result"
    }
   ],
   "source": [
    "df_pivot = pd.pivot_table(transactions_df, index='user_id', columns='type', values='value', aggfunc='sum', fill_value=0)\n",
    "# создаю сводную таблицу\n",
    "# Источник: моя прошлая домашка\n",
    "df_pivot.head()\n",
    "#проверяю, что получил (то ли)"
   ]
  },
  {
   "cell_type": "markdown",
   "id": "ad21c6ef",
   "metadata": {},
   "source": [
    "## Обучение и валидация модели [5 баллов]"
   ]
  },
  {
   "cell_type": "markdown",
   "id": "39a87010",
   "metadata": {},
   "source": [
    "Аналогично предыдущей части разделите данные на обучающую и тестовую выборку (80%/20%), обучите модель на дефолтных параметрах и оцените качество."
   ]
  },
  {
   "cell_type": "code",
   "execution_count": 28,
   "id": "8aa668ce",
   "metadata": {},
   "outputs": [],
   "source": [
    "df = pd.merge(df_pivot, gender_df, on='user_id')\n",
    "# соединяю получившуюся сводную таблицу и датасет в гендарами в одну тадлицу\n",
    "df=df.drop('user_id', axis=1)\n",
    "# убираю столбец 'user_id' за нанадобностью в подготовке данных для модели"
   ]
  },
  {
   "cell_type": "code",
   "execution_count": 29,
   "id": "829e00e8",
   "metadata": {},
   "outputs": [],
   "source": [
    "df_train, df_test = train_test_split(df, test_size=0.2, random_state=47)\n",
    "# разбиваю данные на тестовые и обучающие\n",
    "y_train = df_train['gender']\n",
    "y_test = df_test['gender'] \n",
    "X_train = df_train.drop('gender', axis=1)\n",
    "X_test = df_test.drop('gender', axis=1)\n",
    "# разделяю данные на параметры и целевые метки для обучающей и тестовой выборки"
   ]
  },
  {
   "cell_type": "code",
   "execution_count": 30,
   "id": "21239c03",
   "metadata": {},
   "outputs": [],
   "source": [
    "model_lr.fit(X_train, y_train)\n",
    "# уже заданную модель обучаю на новых данных (модель была задана в прошлом пункте)\n",
    "probas_lr = model_lr.predict_proba(X_test)\n",
    "# в перемнную probas_lr выгружаю вероятности классов, посчитанные моделью"
   ]
  },
  {
   "cell_type": "code",
   "execution_count": 31,
   "id": "888a6317",
   "metadata": {},
   "outputs": [
    {
     "data": {
      "text/plain": [
       "array([1, 0, 0, ..., 0, 1, 0])"
      ]
     },
     "execution_count": 31,
     "metadata": {},
     "output_type": "execute_result"
    }
   ],
   "source": [
    "t = 0.5\n",
    "y_pred = 1*(probas_lr >= t)\n",
    "y_pred = y_pred[:, 1]\n",
    "y_pred\n",
    "# делаю то же, что и в прошлом пункте - в перемнной y_pred -  классификации первого и второго класса с порогом t = 0.5\n",
    "# Источник: гитхаб с семов"
   ]
  },
  {
   "cell_type": "code",
   "execution_count": 32,
   "id": "78324696",
   "metadata": {},
   "outputs": [
    {
     "name": "stdout",
     "output_type": "stream",
     "text": [
      "ROC_AUC новой модели - 0.7929812698135706\n"
     ]
    }
   ],
   "source": [
    "print(f'ROC_AUC новой модели - {roc_auc_score(y_test*1, probas_lr[:, 1])}')"
   ]
  },
  {
   "cell_type": "code",
   "execution_count": 33,
   "id": "6869ad7d",
   "metadata": {},
   "outputs": [
    {
     "data": {
      "text/plain": [
       "1672"
      ]
     },
     "execution_count": 33,
     "metadata": {},
     "output_type": "execute_result"
    }
   ],
   "source": [
    "sum((probas_lr[:, 1] == probas_lr[:, -1])*1)"
   ]
  },
  {
   "cell_type": "code",
   "execution_count": 34,
   "id": "7cddf8de",
   "metadata": {},
   "outputs": [
    {
     "data": {
      "text/plain": [
       "1672"
      ]
     },
     "execution_count": 34,
     "metadata": {},
     "output_type": "execute_result"
    }
   ],
   "source": [
    "len(probas_lr[:, 1])"
   ]
  },
  {
   "cell_type": "code",
   "execution_count": 35,
   "id": "1de35026",
   "metadata": {},
   "outputs": [
    {
     "name": "stdout",
     "output_type": "stream",
     "text": [
      "Accuracy новой модели - 0.7194976076555024\n"
     ]
    }
   ],
   "source": [
    "print(f'Accuracy новой модели - {accuracy_score(y_test*1, y_pred)}')"
   ]
  },
  {
   "cell_type": "code",
   "execution_count": 36,
   "id": "432c5f8c",
   "metadata": {},
   "outputs": [
    {
     "name": "stdout",
     "output_type": "stream",
     "text": [
      "Precision новой модели - 0.697428139183056\n"
     ]
    }
   ],
   "source": [
    "print(f'Precision новой модели - {precision_score(y_test*1, y_pred)}')"
   ]
  },
  {
   "cell_type": "code",
   "execution_count": 37,
   "id": "c8e7d8b5",
   "metadata": {},
   "outputs": [
    {
     "name": "stdout",
     "output_type": "stream",
     "text": [
      "Recall новой модели - 0.6315068493150685\n"
     ]
    }
   ],
   "source": [
    "print(f'Recall новой модели - {recall_score(y_test*1, y_pred)}')"
   ]
  },
  {
   "cell_type": "markdown",
   "id": "8f67c1fb",
   "metadata": {},
   "source": [
    "### Вывод "
   ]
  },
  {
   "cell_type": "markdown",
   "id": "3988e390",
   "metadata": {},
   "source": [
    "Изменилось ли качество модели? Почему?\n",
    "\n",
    "__Ваш вывод: Качество модели значительно изменилось. Если в предыдщем пункте мы получали значения recall и precision почти равные 0, то тут они не просто больше, но и достаточно хорошие: recall = 0,63, precision = 0,69. Такая же положительная тенденция заметна и с метриками accuracy и roc_auc. Если в прошлом пункте они были худшие - все равно, что модель выдавала рандомные результаты, то теперь они достаточно хорошие. В 71% случаев модель распознает класс верно.__\n",
    "\n",
    "__Это происходит по причине улучшения качества параметров, по которым учится модель. Возвращаясь к выводам прошлого пункта, опять же, можно сказать, что в прошлой задаче и сами параметры были полурандомными и по ним едва ли можно было определить какой гендер. Тут же другое дело.__"
   ]
  },
  {
   "cell_type": "markdown",
   "id": "39eb4d89",
   "metadata": {},
   "source": [
    "# Часть 3: что мы всё про данные? Давайте про модель \n",
    "# [макс 30 баллов]"
   ]
  },
  {
   "cell_type": "markdown",
   "id": "132aaef6",
   "metadata": {},
   "source": [
    "Ранее мы работали только над подготовкой обучающей выборки. Давайте теперь попробуем изменить модель, чтобы добиться наилучшего качества. \n",
    "\n",
    "Входные данные для этой части - выборка с предыдущей."
   ]
  },
  {
   "cell_type": "markdown",
   "id": "381b15b7",
   "metadata": {},
   "source": [
    "## Нормирование данных [5 баллов] "
   ]
  },
  {
   "cell_type": "markdown",
   "id": "0a268750",
   "metadata": {},
   "source": [
    "Как мы знаем, линейные модели любят нормированные данные.\n",
    "\n",
    "Приведите значения всех признаков в отрезок [0, 1]\n",
    "\n",
    "__Замечание__: если вы используете метод, который удаляет информацию о названиях колонок - сохраните эти названия в отдельную переменную, вам это потом может понадобиться."
   ]
  },
  {
   "cell_type": "code",
   "execution_count": 38,
   "id": "7c34f5de",
   "metadata": {},
   "outputs": [],
   "source": [
    "columns_name = df.columns\n",
    "# на всякий случай сохраняю в переменную columns_name названия колонок \n",
    "scaler = StandardScaler()\n",
    "X_train_scaled = scaler.fit_transform(X_train)\n",
    "# нормирую признаки обучающей выборк\n",
    "X_test_scaled = scaler.transform(X_test)\n",
    "# нормирую признакие тренировочной выборки"
   ]
  },
  {
   "cell_type": "markdown",
   "id": "7adad023",
   "metadata": {},
   "source": [
    "## Подбор параметров [15 баллов]"
   ]
  },
  {
   "cell_type": "markdown",
   "id": "e3a63257",
   "metadata": {},
   "source": [
    "Подберите наилучшие параметры для модели линейной регрессии. Важные уточнения:\n",
    "\n",
    "* используйте перебор по сетке\n",
    "* в качестве метрики используйте ROC AUC\n",
    "* для оценки параметров делайте кросс-валидацию на 4 фолдах\n",
    "\n",
    "__Замечание__: у линейной регрессии множество доступных значений для некоторых параметров зависит от метода оптимизации (solver). Например, lbfgs-алгоритм не подерживает l1-регуляризацию.\n",
    "\n",
    "Поэтому действуйте шагами: сначала подберите solver, а потом уже переберите доступные для него параметры."
   ]
  },
  {
   "cell_type": "code",
   "execution_count": 39,
   "id": "8198a4c5",
   "metadata": {
    "scrolled": false
   },
   "outputs": [
    {
     "data": {
      "text/plain": [
       "'saga'"
      ]
     },
     "execution_count": 39,
     "metadata": {},
     "output_type": "execute_result"
    }
   ],
   "source": [
    "# для начала подбираю метод оптимизации\n",
    "solvers =  ['lbfgs', 'newton-cg', 'liblinear', 'sag', 'saga']\n",
    "# в переменной солверс обозначаю методы оптимизации, которые буду перебирать\n",
    "\n",
    "searcher_lr = GridSearchCV(model_lr, [{\"regression__solver\": solvers}],\n",
    "                        scoring=\"roc_auc\", cv=4, n_jobs=-1)\n",
    "#задаю серчер\n",
    "searcher_lr.fit(X_train_scaled, y_train)\n",
    "# передаю серчеру признаки\n",
    "best_solver = searcher_lr.best_params_[\"regression__solver\"]\n",
    "#сохраняю лучший солвер в перемнную best_solver\n",
    "best_solver\n",
    "# с пониманием структуры кода помог чт же пи те\n",
    "# подводка: Подберите наилучшие параметры для модели линейной регрессии, действуйте шагами: сначала подберите solver, а потом уже переберите доступные для него параметры."
   ]
  },
  {
   "cell_type": "code",
   "execution_count": 40,
   "id": "c71a5c07",
   "metadata": {},
   "outputs": [
    {
     "data": {
      "text/plain": [
       "{'regression__C': 0.01,\n",
       " 'regression__l1_ratio': 0.2,\n",
       " 'regression__penalty': 'elasticnet'}"
      ]
     },
     "execution_count": 40,
     "metadata": {},
     "output_type": "execute_result"
    }
   ],
   "source": [
    "# gодбираю остальные гиперпараметры для модели (выбираю те параметры, где значения не просто булевы значения, или возможных значений хотябы больше двух)\n",
    "params = {'regression__penalty': ['l1', 'l2', 'elasticnet'],\n",
    "              'regression__C': [0.001, 0.01, 0.1, 1, 10],\n",
    "              'regression__l1_ratio': np.arange(0.0, 1.1, 0.1)}\n",
    "# заново задаю лог регрессию с известным солвером\n",
    "model_lr = Pipeline(steps=[\n",
    "    ('regression', LogisticRegression(solver='saga', random_state=42))\n",
    "])\n",
    "\n",
    "searcher_lr = GridSearchCV(model_lr, params,\n",
    "                        scoring=\"roc_auc\", cv=4, n_jobs=-1)\n",
    "searcher_lr.fit(X_train_scaled, y_train)\n",
    "\n",
    "best_ = searcher_lr.best_params_\n",
    "best_\n",
    "# в формировании кода и определении параметров для перебора помог ChatGPT\n",
    "# Подводка: Подберите наилучшие параметры для модели линейной регрессии. Важные уточнения:\n",
    "#используйте перебор по сетке\n",
    "#в качестве метрики используйте ROC AUC\n",
    "#для оценки параметров делайте кросс-валидацию на 4 фолдах\n",
    "#solver в модели регрессии равен 'saga'"
   ]
  },
  {
   "cell_type": "markdown",
   "id": "d6c296ef",
   "metadata": {},
   "source": [
    "Оцените качество лучшей модели на тестовых данных аналогично предыдущим задачам."
   ]
  },
  {
   "cell_type": "code",
   "execution_count": 41,
   "id": "a264b6ee",
   "metadata": {},
   "outputs": [],
   "source": [
    "# еще раз задаю логистическую регрессию уже с подобранными оптимальными параметрами\n",
    "model_lr = Pipeline(steps=[    ('regression', LogisticRegression(solver='saga', C=0.01, penalty='elasticnet', l1_ratio=0.2, random_state=42))])\n",
    "model_lr.fit(X_train_scaled, y_train)\n",
    "# обучаю модель\n",
    "probas_lr = model_lr.predict_proba(X_test_scaled)\n",
    "# помещаю в переменную probas_lr "
   ]
  },
  {
   "cell_type": "code",
   "execution_count": 42,
   "id": "8bd9c243",
   "metadata": {},
   "outputs": [
    {
     "data": {
      "text/plain": [
       "array([1, 0, 0, ..., 0, 1, 0])"
      ]
     },
     "execution_count": 42,
     "metadata": {},
     "output_type": "execute_result"
    }
   ],
   "source": [
    "t = 0.5\n",
    "y_pred = 1*(probas_lr >= t)\n",
    "y_pred = y_pred[:, 1]\n",
    "y_pred\n",
    "# источник: тетрадь гитхаба\n",
    "# делаю то же, что и в прошлом пункте - в перемнной y_pred -  классификации первого и второго класса с порогом t = 0.5"
   ]
  },
  {
   "cell_type": "code",
   "execution_count": 43,
   "id": "939cf524",
   "metadata": {},
   "outputs": [
    {
     "name": "stdout",
     "output_type": "stream",
     "text": [
      "Рок-аук получился равен 0.808757234679929\n"
     ]
    }
   ],
   "source": [
    "first_model_result = roc_auc_score(y_test*1, probas_lr[:, 1])\n",
    "# сохраняю рок-аук полученной модели в переменную first_model_result, чтобы потом использовать в 4 части\n",
    "print(f'Рок-аук получился равен {first_model_result}')"
   ]
  },
  {
   "cell_type": "code",
   "execution_count": 44,
   "id": "9eccd911",
   "metadata": {},
   "outputs": [
    {
     "name": "stdout",
     "output_type": "stream",
     "text": [
      "Accuracy = 0.7194976076555024\n"
     ]
    }
   ],
   "source": [
    "print(f'Accuracy = {accuracy_score(y_test*1, y_pred)}')"
   ]
  },
  {
   "cell_type": "code",
   "execution_count": 45,
   "id": "7b6430b6",
   "metadata": {},
   "outputs": [
    {
     "name": "stdout",
     "output_type": "stream",
     "text": [
      "Precision = 0.8070588235294117\n"
     ]
    }
   ],
   "source": [
    "print(f'Precision = {precision_score(y_test*1, y_pred)}')"
   ]
  },
  {
   "cell_type": "code",
   "execution_count": 46,
   "id": "12dea293",
   "metadata": {},
   "outputs": [
    {
     "name": "stdout",
     "output_type": "stream",
     "text": [
      "Recall = 0.46986301369863015\n"
     ]
    }
   ],
   "source": [
    "print(f'Recall = {recall_score(y_test*1, y_pred)}')"
   ]
  },
  {
   "cell_type": "markdown",
   "id": "a5f49648",
   "metadata": {},
   "source": [
    "Получилось ли добиться лучше качества при подборе параметров?\n",
    "Почему так? \n",
    "\n",
    "Для чего мы использовали одновременно кросс-валидацию и отложенную тестовую выборку?\n",
    "\n",
    "__Ваш вывод__: отвечая на вопрос о том, получилось ли добиться лучшего качества модели ответ неоднозначный. С одной стороны, вроде бы да, так как roc_auc_score, на котором училась модель, стал больше, precision_score также стал значительно лучше, однако recall_score сильно ухудшился: с 0,6 он понизился до примерно до 0,47. Таким образом, прибавив в roc_auc_score 1/100, мы потеряли в полноте ,более 1/10. В связи с эти модель стала более подходящей для одниx задач и менее подходящей для других задач. Например, для задач автоматического одобрения кредита, данная модель стала бы более подходящей, так как в ней precision более значим. В то же время модель стала мене применимой для медицины, потому что в ней важен recall, который сильно уменьшился\n",
    "\n",
    "Кросс-валидацию в данном случае в основном служит для корректногоьподбора параметров, а именно, чтобы была возможность проверить параметр, посчитав его рок-аук и сравнив с рок-ауками других параметров, таким образом, выбрав наилучший параметр. Так, кросс-валидация одновременно и решает проблему переобучения, отсеивая параметры с низким roc_auc. Тестовая выборка же не допускает возникновение переобучения для целой модели с уже готовыми параметрами."
   ]
  },
  {
   "cell_type": "markdown",
   "id": "4db51ec9",
   "metadata": {},
   "source": [
    "## Подбор отсечения [5 баллов]"
   ]
  },
  {
   "cell_type": "markdown",
   "id": "9b9d5678",
   "metadata": {},
   "source": [
    "Ранее мы работали или с вероятностями из модели или с метками, полученных при отсечении по веростности с порогом 0.5.\n",
    "\n",
    "Стоит сказать, что порог 0.5 для разделения классов не всегда самый лучший. Часто нам нужно так подобрать порог, чтобы удовлетворить наши требования по точности и полноте.\n",
    "\n",
    "Давайте подберём порог, который максимизирует F_beta меру при условии, что нам полнота в 5 раз важнее точности.\n",
    "\n",
    "Вычислите наилучший порог и нарисуйте график зависимости этой метрики от порога разделения."
   ]
  },
  {
   "cell_type": "code",
   "execution_count": 47,
   "id": "6133e980",
   "metadata": {},
   "outputs": [
    {
     "name": "stdout",
     "output_type": "stream",
     "text": [
      "Порог при котором Бетта максимальна: 0.0\n",
      "0.9527155908041361\n"
     ]
    }
   ],
   "source": [
    "t = np.arange(0, 1.01, 0.01)\n",
    "# задаю список порогов, по которым будет осуществляться перебор\n",
    "betas = [] # в этот список будут складываться все полученные ф-меры\n",
    "def beta_5(recall, precision): #создаю функцию, которая будет счиать F-mehe c беттой равной 5\n",
    "    return ((1 + 5 ** 2) * precision * recall) / (5 ** 2 * precision + recall) # тут формула с семов\n",
    "for k in t: # цикл считает сначала рекол, потом пресиж, в конце считая и сохраняя бету для каждого порога\n",
    "    y_pred = 1*(probas_lr >= k)\n",
    "    y_pred = y_pred[:, 1] # в этом спике разбиение по классам\n",
    "    recall = recall_score(y_test*1, y_pred) # подсчет рекол\n",
    "    precision = precision_score(y_test*1, y_pred) # подсчет пресижн\n",
    "    betas.append(beta_5(recall, precision))\n",
    "print(f'Порог при котором Бетта максимальна: {t[betas.index(max(betas))]}')\n",
    "print(max(betas))\n",
    "# тут мне помог чат жпт: у него позаимствовал идею создания функции и цикла\n",
    "# Запрос: Ранее мы работали или с вероятностями из модели или с метками, полученных при отсечении по веростности с порогом 0.5.\n",
    "\n",
    "#Стоит сказать, что порог 0.5 для разделения классов не всегда самый лучший. Часто нам нужно так подобрать порог, чтобы удовлетворить наши требования по точности и полноте.\n",
    "\n",
    "#Давайте подберём порог, который максимизирует F_beta меру при условии, что нам полнота в 5 раз важнее точности.\n"
   ]
  },
  {
   "cell_type": "code",
   "execution_count": 48,
   "id": "df588ba8",
   "metadata": {},
   "outputs": [
    {
     "data": {
      "image/png": "[encoded data removed]",
      "text/plain": [
       "<Figure size 640x480 with 1 Axes>"
      ]
     },
     "metadata": {},
     "output_type": "display_data"
    }
   ],
   "source": [
    "# тут рисую иллюстрацию\n",
    "plt.plot(t, betas)\n",
    "plt.xlabel(\"Порог t\")\n",
    "plt.ylabel(\"F-mera\")\n",
    "plt.title('F-мера в зависимости от порога');"
   ]
  },
  {
   "cell_type": "markdown",
   "id": "9692dde3",
   "metadata": {},
   "source": [
    "## Интерпретация модели [5 баллов]"
   ]
  },
  {
   "cell_type": "markdown",
   "id": "fda297e1",
   "metadata": {},
   "source": [
    "Часто нам хочется интерпритировать предсказания модели - понять, как наши признаки влияют на её ответ.\n",
    "В случае сложных моделей сделать это не просто - чем сложнее модель, тем более сложные закономерности она извлекает и тем тяжелее нам их понять.\n",
    "\n",
    "Но в случае линейной регресии это просто сделать, посмотрев на её обучаемые параметры (вспоминайте!).\n",
    "\n",
    "Получите список признаков, которые увеличивают вероятность метки 0.\n",
    "Аналогично для метки 1."
   ]
  },
  {
   "cell_type": "code",
   "execution_count": 49,
   "id": "2625f3ef",
   "metadata": {
    "scrolled": false
   },
   "outputs": [
    {
     "data": {
      "text/plain": [
       "array([ 1.59565586e-02, -8.52261829e-03,  0.00000000e+00,  4.83415963e-01,\n",
       "        3.82729699e-03,  6.07515793e-02,  3.01893253e-02, -3.86529575e-04,\n",
       "        1.56137423e-02, -9.62290961e-04, -1.62135325e-01, -2.88292534e-01,\n",
       "       -7.90172375e-03,  8.08029271e-02,  9.96640488e-02,  0.00000000e+00,\n",
       "        5.45072309e-02,  8.51486848e-03, -1.52103680e-02,  0.00000000e+00])"
      ]
     },
     "execution_count": 49,
     "metadata": {},
     "output_type": "execute_result"
    }
   ],
   "source": [
    "coef = model_lr.steps[-1][1].coef_\n",
    "# тут сохраняю все коэффициенты модели\n",
    "coef[0][:20]"
   ]
  },
  {
   "cell_type": "code",
   "execution_count": 50,
   "id": "3f0d0279",
   "metadata": {
    "scrolled": true
   },
   "outputs": [
    {
     "data": {
      "text/plain": [
       "['Авиалинии, авиакомпании',\n",
       " 'Автозапчасти и аксессуары',\n",
       " 'Автоматизированные бензозаправки',\n",
       " 'Автомойки',\n",
       " 'Автошины',\n",
       " 'Агентства по аренде автомобилей',\n",
       " 'Бакалейные магазины, супермаркеты',\n",
       " 'Бары, коктейль-бары, дискотеки, ночные клубы и таверны — места продажи алкогольных напитков',\n",
       " 'Бизнес-сервис',\n",
       " 'Билльярд-клубы',\n",
       " 'Веломагазины — продажа и обслуживание',\n",
       " 'Видеопрокат',\n",
       " 'Галереи/учреждения видеоигр',\n",
       " 'Генеральные подрядчики по вентиляции, теплоснабжению, и водопроводу',\n",
       " 'Горючее топливо — уголь, нефть, разжиженный бензин, дрова',\n",
       " 'Денежные переводы MasterCard MoneySend',\n",
       " 'Детская одежда, включая одежду для самых маленьких',\n",
       " 'Жилье — отели, мотели, курорты',\n",
       " 'Кабельные и другие платные телевизионные услуги',\n",
       " 'Канцелярия, офисные сопутствующие товары, бумага для печатания и письма',\n",
       " 'Кинотеатры',\n",
       " 'Компьютерная сеть/информационные услуги',\n",
       " 'Компьютеры, периферийное компьютерное оборудование, программное обеспечение',\n",
       " 'Легковой и грузовой транспорт — продажа, сервис, ремонт, запчасти и лизинг',\n",
       " 'Лесо- и строительный материал',\n",
       " 'Луна-парки, карнавалы, цирки, предсказатели будущего',\n",
       " 'Магазины с продажей спиртных напитков на вынос (пиво, вино и ликер)',\n",
       " 'Магазины спорттоваров',\n",
       " 'Места общественного питания, рестораны',\n",
       " 'Мужская одежда и аксессуары, включая одежду для мальчиков',\n",
       " 'Мужская, женская и детская спец-одежда',\n",
       " 'Не-финансовые институты — иностранная валюта, денежные переводы (непередаваемые), дорожные чеки, квази-кэш',\n",
       " 'Оборудование для водопровода и отопительной системы',\n",
       " 'Оборудование и сопутствующие материалы для технического обеспечения',\n",
       " 'Оптовики',\n",
       " 'Офисное, фотографическое, фотокопировальное, и микрофильмирующее оборудование',\n",
       " 'Паркинги и гаражи',\n",
       " 'Подрядчики по электричеству',\n",
       " 'Подрядчики, специализированная торговля — нигде более не классифицированные',\n",
       " 'Покрытия для пола',\n",
       " 'Поставщики грузовиков и запчастей',\n",
       " 'Поставщики провизии',\n",
       " 'Правительственные услуги, нигде ранее не классифицируемые',\n",
       " 'Программирование, обработка данных, интегрированные системы, дизайн',\n",
       " 'Продажа компьютерного программного обеспечения',\n",
       " 'Продажа молочных продуктов в розницу',\n",
       " 'Продажа мотоциклов',\n",
       " 'Продажа музыкальных инструментов, фортепиано, нот',\n",
       " 'Продажа страхования, гарантированное размещение, премии',\n",
       " 'Продажа электронного оборудования',\n",
       " 'Прямой маркетинг — входящий телемаркетинг',\n",
       " 'Прямой маркетинг — другие торговые точки прямого маркетинга (нигде более не классифицированные)',\n",
       " 'Прямой маркетинг — торговые точки подписки',\n",
       " 'Различные продовольственные магазины — рынки, магазины со спец-ассортиментом, продажа полуфабрикатов, фирменных блюд, продажа с помощью торговых автоматов',\n",
       " 'Различные специализированные магазины бытовых принадлежностей',\n",
       " 'Различные товары общего назначения',\n",
       " 'Разнообразные издательства/печатное дело',\n",
       " 'Рестораны, закусочные',\n",
       " 'СТО общего назначения',\n",
       " 'Садовые принадлежности (в том числе для ухода за газонами) в розницу',\n",
       " 'Скобяные товары в розницу',\n",
       " 'Спортивная одежда, одежда для верховой езды и езды на мотоцикле',\n",
       " 'Станции техобслуживания',\n",
       " 'Строительные материалы — нигде более не классифицированные',\n",
       " 'Телекоммуникационное оборудование, включая продажу телефонов',\n",
       " 'Транзакции по азартным играм',\n",
       " 'Транспортировка — пригородные и локальные сезонные транспортные средства, включая электрички',\n",
       " 'Универмаги',\n",
       " 'Услуги курьера — по воздуху и на земле, агентство по отправке грузов',\n",
       " 'Финансовые институты — снятие наличности автоматически',\n",
       " 'Флористика',\n",
       " 'Фотостудии',\n",
       " 'Ценные бумаги: брокеры/дилеры',\n",
       " 'Цифровые товары, игры',\n",
       " 'Школы — бизнес и секретарей',\n",
       " 'Штрафы',\n",
       " 'Электрические части и оборудование']"
      ]
     },
     "execution_count": 50,
     "metadata": {},
     "output_type": "execute_result"
    }
   ],
   "source": [
    "# в переменную positive_futures сохраняю характеристики с коэффициентами, которые увеличивают результат модели, то есть\n",
    "# приближают ее к классу 1. Это те характеристики, у которых итоговый коэффициент > 0\n",
    "positive_features = [columns_name[i] for i in range(len(coef[0])) if coef[0][i] > 0]\n",
    "# сюда сохраняю названия характеристик\n",
    "positive_meanings = [coef[0][i] for i in range(len(coef[0])) if coef[0][i] > 0]\n",
    "# сюда сохраняю их коэффициенты\n",
    "positive_features\n",
    "#помог чат жпт (подсказал с идеей разбиения на положительные и отрицательные коэффициенты)\n",
    "# подводка: Для логистической регрессии получите список признаков, которые увеличивают вероятность метки 0. Аналогично для метки 1."
   ]
  },
  {
   "cell_type": "code",
   "execution_count": 51,
   "id": "916a1e46",
   "metadata": {},
   "outputs": [
    {
     "data": {
      "text/plain": [
       "['Авиалинии, авиакомпании, нигде более не классифицированные',\n",
       " 'Агентства по автотранспортным перевозкам, местные/дальные автогрузоперевозки, компании попереезду и хранению, местная доставка',\n",
       " 'Агенты и менеджеры по аренде недвижимости',\n",
       " 'Аксессуары для женщин',\n",
       " 'Аптеки',\n",
       " 'Ассоциации — гражданские, социальные и братские',\n",
       " 'Больницы',\n",
       " 'Ветеринарные услуги',\n",
       " 'Готовая женская одежда',\n",
       " 'Дантисты, ортодонтисты',\n",
       " 'Денежные переводы',\n",
       " 'Звонки с использованием телефонов, считывающих магнитную ленту',\n",
       " 'Зоомагазины',\n",
       " 'Изготовление и продажа меховых изделий',\n",
       " 'Кондитерские',\n",
       " 'Лекарства, их распространители, аптеки',\n",
       " 'Магазины игрушек',\n",
       " 'Магазины косметики',\n",
       " 'Магазины мужской и женской одежды',\n",
       " 'Магазины офисных, школьных принадлежностей, канцтоваров',\n",
       " 'Магазины по продаже часов, ювелирных изделий и изделий из серебра',\n",
       " 'Магазины ткани, ниток рукоделия, шитья',\n",
       " 'Магазины, торгующие по сниженным ценам',\n",
       " 'Нефть и нефтепродукты',\n",
       " 'Образовательные услуги',\n",
       " 'Обувные магазины',\n",
       " 'Одежда для всей семьи',\n",
       " 'Практикующие врачи, медицинские услуги, нигде ранее не классифицируемые',\n",
       " 'Производство и дистрибуция видеофильмов',\n",
       " 'Профессиональные услуги, нигде ранее не классифицируемые',\n",
       " 'Прямой маркетинг — торговля через каталог',\n",
       " 'Различные магазины одежды и аксессуаров',\n",
       " 'Рекламные услуги',\n",
       " 'Ткани, обивочный материал, гардины и портьеры, жалюзи',\n",
       " 'Услуги отдыха, нигде ранее не классифицируемые',\n",
       " 'Финансовые институты — снятие наличности вручную',\n",
       " 'Фотостудии, фотолаборатории',\n",
       " 'Штучные товары, галантерея и другие текстильные товары']"
      ]
     },
     "execution_count": 51,
     "metadata": {},
     "output_type": "execute_result"
    }
   ],
   "source": [
    "negative_features = [columns_name[i] for i in range(len(coef[0])) if coef[0][i] < 0]\n",
    "negative_meanings = [coef[0][i] for i in range(len(coef[0])) if coef[0][i] < 0]\n",
    "negative_features\n",
    "# то же самое для отрицательных кэфов"
   ]
  },
  {
   "cell_type": "code",
   "execution_count": 52,
   "id": "fe7afa88",
   "metadata": {},
   "outputs": [
    {
     "data": {
      "text/html": [
       "<div>\n",
       "<style scoped>\n",
       "    .dataframe tbody tr th:only-of-type {\n",
       "        vertical-align: middle;\n",
       "    }\n",
       "\n",
       "    .dataframe tbody tr th {\n",
       "        vertical-align: top;\n",
       "    }\n",
       "\n",
       "    .dataframe thead th {\n",
       "        text-align: right;\n",
       "    }\n",
       "</style>\n",
       "<table border=\"1\" class=\"dataframe\">\n",
       "  <thead>\n",
       "    <tr style=\"text-align: right;\">\n",
       "      <th></th>\n",
       "      <th>feature</th>\n",
       "      <th>meaning</th>\n",
       "    </tr>\n",
       "  </thead>\n",
       "  <tbody>\n",
       "    <tr>\n",
       "      <th>17</th>\n",
       "      <td>Магазины косметики</td>\n",
       "      <td>-0.459892</td>\n",
       "    </tr>\n",
       "    <tr>\n",
       "      <th>8</th>\n",
       "      <td>Готовая женская одежда</td>\n",
       "      <td>-0.363662</td>\n",
       "    </tr>\n",
       "    <tr>\n",
       "      <th>18</th>\n",
       "      <td>Магазины мужской и женской одежды</td>\n",
       "      <td>-0.309438</td>\n",
       "    </tr>\n",
       "    <tr>\n",
       "      <th>4</th>\n",
       "      <td>Аптеки</td>\n",
       "      <td>-0.288293</td>\n",
       "    </tr>\n",
       "    <tr>\n",
       "      <th>26</th>\n",
       "      <td>Одежда для всей семьи</td>\n",
       "      <td>-0.267524</td>\n",
       "    </tr>\n",
       "    <tr>\n",
       "      <th>31</th>\n",
       "      <td>Различные магазины одежды и аксессуаров</td>\n",
       "      <td>-0.224882</td>\n",
       "    </tr>\n",
       "    <tr>\n",
       "      <th>11</th>\n",
       "      <td>Звонки с использованием телефонов, считывающих...</td>\n",
       "      <td>-0.193434</td>\n",
       "    </tr>\n",
       "    <tr>\n",
       "      <th>33</th>\n",
       "      <td>Ткани, обивочный материал, гардины и портьеры,...</td>\n",
       "      <td>-0.162287</td>\n",
       "    </tr>\n",
       "    <tr>\n",
       "      <th>3</th>\n",
       "      <td>Аксессуары для женщин</td>\n",
       "      <td>-0.162135</td>\n",
       "    </tr>\n",
       "    <tr>\n",
       "      <th>19</th>\n",
       "      <td>Магазины офисных, школьных принадлежностей, ка...</td>\n",
       "      <td>-0.092260</td>\n",
       "    </tr>\n",
       "    <tr>\n",
       "      <th>21</th>\n",
       "      <td>Магазины ткани, ниток рукоделия, шитья</td>\n",
       "      <td>-0.077833</td>\n",
       "    </tr>\n",
       "    <tr>\n",
       "      <th>32</th>\n",
       "      <td>Рекламные услуги</td>\n",
       "      <td>-0.076285</td>\n",
       "    </tr>\n",
       "    <tr>\n",
       "      <th>10</th>\n",
       "      <td>Денежные переводы</td>\n",
       "      <td>-0.051818</td>\n",
       "    </tr>\n",
       "    <tr>\n",
       "      <th>13</th>\n",
       "      <td>Изготовление и продажа меховых изделий</td>\n",
       "      <td>-0.049761</td>\n",
       "    </tr>\n",
       "    <tr>\n",
       "      <th>30</th>\n",
       "      <td>Прямой маркетинг — торговля через каталог</td>\n",
       "      <td>-0.045872</td>\n",
       "    </tr>\n",
       "    <tr>\n",
       "      <th>35</th>\n",
       "      <td>Финансовые институты — снятие наличности вручную</td>\n",
       "      <td>-0.042273</td>\n",
       "    </tr>\n",
       "    <tr>\n",
       "      <th>22</th>\n",
       "      <td>Магазины, торгующие по сниженным ценам</td>\n",
       "      <td>-0.035151</td>\n",
       "    </tr>\n",
       "    <tr>\n",
       "      <th>20</th>\n",
       "      <td>Магазины по продаже часов, ювелирных изделий и...</td>\n",
       "      <td>-0.032622</td>\n",
       "    </tr>\n",
       "    <tr>\n",
       "      <th>29</th>\n",
       "      <td>Профессиональные услуги, нигде ранее не класси...</td>\n",
       "      <td>-0.024484</td>\n",
       "    </tr>\n",
       "    <tr>\n",
       "      <th>24</th>\n",
       "      <td>Образовательные услуги</td>\n",
       "      <td>-0.023009</td>\n",
       "    </tr>\n",
       "    <tr>\n",
       "      <th>15</th>\n",
       "      <td>Лекарства, их распространители, аптеки</td>\n",
       "      <td>-0.021917</td>\n",
       "    </tr>\n",
       "    <tr>\n",
       "      <th>7</th>\n",
       "      <td>Ветеринарные услуги</td>\n",
       "      <td>-0.017776</td>\n",
       "    </tr>\n",
       "    <tr>\n",
       "      <th>9</th>\n",
       "      <td>Дантисты, ортодонтисты</td>\n",
       "      <td>-0.017512</td>\n",
       "    </tr>\n",
       "    <tr>\n",
       "      <th>23</th>\n",
       "      <td>Нефть и нефтепродукты</td>\n",
       "      <td>-0.015597</td>\n",
       "    </tr>\n",
       "    <tr>\n",
       "      <th>6</th>\n",
       "      <td>Больницы</td>\n",
       "      <td>-0.015210</td>\n",
       "    </tr>\n",
       "    <tr>\n",
       "      <th>12</th>\n",
       "      <td>Зоомагазины</td>\n",
       "      <td>-0.013917</td>\n",
       "    </tr>\n",
       "    <tr>\n",
       "      <th>14</th>\n",
       "      <td>Кондитерские</td>\n",
       "      <td>-0.011004</td>\n",
       "    </tr>\n",
       "    <tr>\n",
       "      <th>36</th>\n",
       "      <td>Фотостудии, фотолаборатории</td>\n",
       "      <td>-0.010707</td>\n",
       "    </tr>\n",
       "    <tr>\n",
       "      <th>34</th>\n",
       "      <td>Услуги отдыха, нигде ранее не классифицируемые</td>\n",
       "      <td>-0.009856</td>\n",
       "    </tr>\n",
       "    <tr>\n",
       "      <th>0</th>\n",
       "      <td>Авиалинии, авиакомпании, нигде более не класси...</td>\n",
       "      <td>-0.008523</td>\n",
       "    </tr>\n",
       "    <tr>\n",
       "      <th>5</th>\n",
       "      <td>Ассоциации — гражданские, социальные и братские</td>\n",
       "      <td>-0.007902</td>\n",
       "    </tr>\n",
       "    <tr>\n",
       "      <th>16</th>\n",
       "      <td>Магазины игрушек</td>\n",
       "      <td>-0.002786</td>\n",
       "    </tr>\n",
       "    <tr>\n",
       "      <th>25</th>\n",
       "      <td>Обувные магазины</td>\n",
       "      <td>-0.002336</td>\n",
       "    </tr>\n",
       "    <tr>\n",
       "      <th>28</th>\n",
       "      <td>Производство и дистрибуция видеофильмов</td>\n",
       "      <td>-0.001515</td>\n",
       "    </tr>\n",
       "    <tr>\n",
       "      <th>37</th>\n",
       "      <td>Штучные товары, галантерея и другие текстильны...</td>\n",
       "      <td>-0.001387</td>\n",
       "    </tr>\n",
       "    <tr>\n",
       "      <th>27</th>\n",
       "      <td>Практикующие врачи, медицинские услуги, нигде ...</td>\n",
       "      <td>-0.001277</td>\n",
       "    </tr>\n",
       "    <tr>\n",
       "      <th>2</th>\n",
       "      <td>Агенты и менеджеры по аренде недвижимости</td>\n",
       "      <td>-0.000962</td>\n",
       "    </tr>\n",
       "    <tr>\n",
       "      <th>1</th>\n",
       "      <td>Агентства по автотранспортным перевозкам, мест...</td>\n",
       "      <td>-0.000387</td>\n",
       "    </tr>\n",
       "  </tbody>\n",
       "</table>\n",
       "</div>"
      ],
      "text/plain": [
       "                                              feature   meaning\n",
       "17                                 Магазины косметики -0.459892\n",
       "8                              Готовая женская одежда -0.363662\n",
       "18                  Магазины мужской и женской одежды -0.309438\n",
       "4                                              Аптеки -0.288293\n",
       "26                              Одежда для всей семьи -0.267524\n",
       "31            Различные магазины одежды и аксессуаров -0.224882\n",
       "11  Звонки с использованием телефонов, считывающих... -0.193434\n",
       "33  Ткани, обивочный материал, гардины и портьеры,... -0.162287\n",
       "3                               Аксессуары для женщин -0.162135\n",
       "19  Магазины офисных, школьных принадлежностей, ка... -0.092260\n",
       "21             Магазины ткани, ниток рукоделия, шитья -0.077833\n",
       "32                                   Рекламные услуги -0.076285\n",
       "10                                  Денежные переводы -0.051818\n",
       "13             Изготовление и продажа меховых изделий -0.049761\n",
       "30          Прямой маркетинг — торговля через каталог -0.045872\n",
       "35   Финансовые институты — снятие наличности вручную -0.042273\n",
       "22             Магазины, торгующие по сниженным ценам -0.035151\n",
       "20  Магазины по продаже часов, ювелирных изделий и... -0.032622\n",
       "29  Профессиональные услуги, нигде ранее не класси... -0.024484\n",
       "24                             Образовательные услуги -0.023009\n",
       "15             Лекарства, их распространители, аптеки -0.021917\n",
       "7                                 Ветеринарные услуги -0.017776\n",
       "9                              Дантисты, ортодонтисты -0.017512\n",
       "23                              Нефть и нефтепродукты -0.015597\n",
       "6                                            Больницы -0.015210\n",
       "12                                        Зоомагазины -0.013917\n",
       "14                                       Кондитерские -0.011004\n",
       "36                        Фотостудии, фотолаборатории -0.010707\n",
       "34     Услуги отдыха, нигде ранее не классифицируемые -0.009856\n",
       "0   Авиалинии, авиакомпании, нигде более не класси... -0.008523\n",
       "5     Ассоциации — гражданские, социальные и братские -0.007902\n",
       "16                                   Магазины игрушек -0.002786\n",
       "25                                   Обувные магазины -0.002336\n",
       "28            Производство и дистрибуция видеофильмов -0.001515\n",
       "37  Штучные товары, галантерея и другие текстильны... -0.001387\n",
       "27  Практикующие врачи, медицинские услуги, нигде ... -0.001277\n",
       "2           Агенты и менеджеры по аренде недвижимости -0.000962\n",
       "1   Агентства по автотранспортным перевозкам, мест... -0.000387"
      ]
     },
     "execution_count": 52,
     "metadata": {},
     "output_type": "execute_result"
    }
   ],
   "source": [
    "female_features_df = pd.DataFrame({'feature':negative_features, 'meaning': negative_meanings})\n",
    "female_features_df.sort_values(by='meaning')\n",
    "# объединяю характеристики и и их коэффициенты в один датасет, сортирую"
   ]
  },
  {
   "cell_type": "code",
   "execution_count": 53,
   "id": "06478696",
   "metadata": {},
   "outputs": [
    {
     "data": {
      "text/html": [
       "<div>\n",
       "<style scoped>\n",
       "    .dataframe tbody tr th:only-of-type {\n",
       "        vertical-align: middle;\n",
       "    }\n",
       "\n",
       "    .dataframe tbody tr th {\n",
       "        vertical-align: top;\n",
       "    }\n",
       "\n",
       "    .dataframe thead th {\n",
       "        text-align: right;\n",
       "    }\n",
       "</style>\n",
       "<table border=\"1\" class=\"dataframe\">\n",
       "  <thead>\n",
       "    <tr style=\"text-align: right;\">\n",
       "      <th></th>\n",
       "      <th>feature</th>\n",
       "      <th>meaning</th>\n",
       "    </tr>\n",
       "  </thead>\n",
       "  <tbody>\n",
       "    <tr>\n",
       "      <th>52</th>\n",
       "      <td>Прямой маркетинг — торговые точки подписки</td>\n",
       "      <td>0.000563</td>\n",
       "    </tr>\n",
       "    <tr>\n",
       "      <th>36</th>\n",
       "      <td>Паркинги и гаражи</td>\n",
       "      <td>0.001053</td>\n",
       "    </tr>\n",
       "    <tr>\n",
       "      <th>19</th>\n",
       "      <td>Канцелярия, офисные сопутствующие товары, бума...</td>\n",
       "      <td>0.001361</td>\n",
       "    </tr>\n",
       "    <tr>\n",
       "      <th>16</th>\n",
       "      <td>Детская одежда, включая одежду для самых мален...</td>\n",
       "      <td>0.001547</td>\n",
       "    </tr>\n",
       "    <tr>\n",
       "      <th>34</th>\n",
       "      <td>Оптовики</td>\n",
       "      <td>0.001896</td>\n",
       "    </tr>\n",
       "    <tr>\n",
       "      <th>25</th>\n",
       "      <td>Луна-парки, карнавалы, цирки, предсказатели бу...</td>\n",
       "      <td>0.002474</td>\n",
       "    </tr>\n",
       "    <tr>\n",
       "      <th>11</th>\n",
       "      <td>Видеопрокат</td>\n",
       "      <td>0.003022</td>\n",
       "    </tr>\n",
       "    <tr>\n",
       "      <th>2</th>\n",
       "      <td>Автоматизированные бензозаправки</td>\n",
       "      <td>0.003827</td>\n",
       "    </tr>\n",
       "    <tr>\n",
       "      <th>35</th>\n",
       "      <td>Офисное, фотографическое, фотокопировальное, и...</td>\n",
       "      <td>0.004639</td>\n",
       "    </tr>\n",
       "    <tr>\n",
       "      <th>71</th>\n",
       "      <td>Фотостудии</td>\n",
       "      <td>0.005067</td>\n",
       "    </tr>\n",
       "    <tr>\n",
       "      <th>41</th>\n",
       "      <td>Поставщики провизии</td>\n",
       "      <td>0.005811</td>\n",
       "    </tr>\n",
       "    <tr>\n",
       "      <th>33</th>\n",
       "      <td>Оборудование и сопутствующие материалы для тех...</td>\n",
       "      <td>0.005900</td>\n",
       "    </tr>\n",
       "    <tr>\n",
       "      <th>10</th>\n",
       "      <td>Веломагазины — продажа и обслуживание</td>\n",
       "      <td>0.007933</td>\n",
       "    </tr>\n",
       "    <tr>\n",
       "      <th>48</th>\n",
       "      <td>Продажа страхования, гарантированное размещени...</td>\n",
       "      <td>0.008295</td>\n",
       "    </tr>\n",
       "    <tr>\n",
       "      <th>9</th>\n",
       "      <td>Билльярд-клубы</td>\n",
       "      <td>0.008515</td>\n",
       "    </tr>\n",
       "    <tr>\n",
       "      <th>66</th>\n",
       "      <td>Транспортировка — пригородные и локальные сезо...</td>\n",
       "      <td>0.008899</td>\n",
       "    </tr>\n",
       "    <tr>\n",
       "      <th>51</th>\n",
       "      <td>Прямой маркетинг — другие торговые точки прямо...</td>\n",
       "      <td>0.008984</td>\n",
       "    </tr>\n",
       "    <tr>\n",
       "      <th>63</th>\n",
       "      <td>Строительные материалы — нигде более не класси...</td>\n",
       "      <td>0.009234</td>\n",
       "    </tr>\n",
       "    <tr>\n",
       "      <th>56</th>\n",
       "      <td>Разнообразные издательства/печатное дело</td>\n",
       "      <td>0.009747</td>\n",
       "    </tr>\n",
       "    <tr>\n",
       "      <th>73</th>\n",
       "      <td>Цифровые товары, игры</td>\n",
       "      <td>0.010742</td>\n",
       "    </tr>\n",
       "  </tbody>\n",
       "</table>\n",
       "</div>"
      ],
      "text/plain": [
       "                                              feature   meaning\n",
       "52         Прямой маркетинг — торговые точки подписки  0.000563\n",
       "36                                  Паркинги и гаражи  0.001053\n",
       "19  Канцелярия, офисные сопутствующие товары, бума...  0.001361\n",
       "16  Детская одежда, включая одежду для самых мален...  0.001547\n",
       "34                                           Оптовики  0.001896\n",
       "25  Луна-парки, карнавалы, цирки, предсказатели бу...  0.002474\n",
       "11                                        Видеопрокат  0.003022\n",
       "2                    Автоматизированные бензозаправки  0.003827\n",
       "35  Офисное, фотографическое, фотокопировальное, и...  0.004639\n",
       "71                                         Фотостудии  0.005067\n",
       "41                                Поставщики провизии  0.005811\n",
       "33  Оборудование и сопутствующие материалы для тех...  0.005900\n",
       "10              Веломагазины — продажа и обслуживание  0.007933\n",
       "48  Продажа страхования, гарантированное размещени...  0.008295\n",
       "9                                      Билльярд-клубы  0.008515\n",
       "66  Транспортировка — пригородные и локальные сезо...  0.008899\n",
       "51  Прямой маркетинг — другие торговые точки прямо...  0.008984\n",
       "63  Строительные материалы — нигде более не класси...  0.009234\n",
       "56           Разнообразные издательства/печатное дело  0.009747\n",
       "73                              Цифровые товары, игры  0.010742"
      ]
     },
     "execution_count": 53,
     "metadata": {},
     "output_type": "execute_result"
    }
   ],
   "source": [
    "male_features_df = pd.DataFrame({'feature':positive_features, 'meaning': positive_meanings})\n",
    "male_features_df.sort_values(by='meaning').iloc[:20]\n",
    "# объединяю характеристики и и их коэффициенты в один датасет, сортирую"
   ]
  },
  {
   "cell_type": "markdown",
   "id": "93723beb",
   "metadata": {},
   "source": [
    "# Часть 4: ва-банк / пространство для творчества [макс 30 баллов]"
   ]
  },
  {
   "cell_type": "markdown",
   "id": "97dc0173",
   "metadata": {},
   "source": [
    "Добейтесь максимального качества, больше качество - больше баллов.\n",
    "\n",
    "Стратегия подготовки данных и обучения модели на ваше усмотрение.\n",
    "\n",
    "Условия:\n",
    "* Оценка на отложенной тестовой группе пользователей, использовавшейся в прошлых пунктах (20%)\n",
    "* В качестве метрики используйте ROC_AUC\n",
    "\n",
    "__Замечание__: \n",
    "\n",
    "Ответа на вопрос \"какое нужно качество для максимального балла?\" не будет.\n",
    "\n",
    "Используйте все свои знания, чтобы добиться наилучшего результата."
   ]
  },
  {
   "cell_type": "code",
   "execution_count": 54,
   "id": "e442c16f",
   "metadata": {},
   "outputs": [
    {
     "data": {
      "text/plain": [
       "185"
      ]
     },
     "execution_count": 54,
     "metadata": {},
     "output_type": "execute_result"
    }
   ],
   "source": [
    "len(df.columns)"
   ]
  },
  {
   "cell_type": "markdown",
   "id": "8ee8eb20",
   "metadata": {},
   "source": [
    "Возможно, данную задачу классификации лучшим образом будет решать модель рандомного леса"
   ]
  },
  {
   "cell_type": "code",
   "execution_count": 55,
   "id": "c5dc9904",
   "metadata": {},
   "outputs": [
    {
     "name": "stdout",
     "output_type": "stream",
     "text": [
      "ROC AUC: 0.8230731756972922\n"
     ]
    }
   ],
   "source": [
    "# задаю модель рандомного леса\n",
    "model_rf = RandomForestClassifier(random_state=47)  \n",
    "model_rf.fit(X_train_scaled, y_train)\n",
    "\n",
    "\n",
    "p_pred = model_rf.predict_proba(X_test_scaled) # сохраняю вероятности модели\n",
    "roc_auc = roc_auc_score(y_test, p_pred[:, -1]) # считаю рок-аук\n",
    "print(\"ROC AUC:\", roc_auc)\n",
    "# Источник: тетрадь с семов"
   ]
  },
  {
   "cell_type": "code",
   "execution_count": 56,
   "id": "7b1150b0",
   "metadata": {},
   "outputs": [
    {
     "name": "stdout",
     "output_type": "stream",
     "text": [
      "Результат работы рандомного леса оказалася лучше, чем результат работы логистической регрессии. Напомню, она выбивала 0.808757234679929 на ROC-AUC. Разница составляет 0.01431594101736322\n"
     ]
    }
   ],
   "source": [
    "print(f'Результат работы рандомного леса оказалася лучше, чем результат работы логистической регрессии. Напомню, она выбивала {first_model_result} на ROC-AUC. Разница составляет {roc_auc-first_model_result}')"
   ]
  },
  {
   "cell_type": "code",
   "execution_count": 57,
   "id": "382eee6f",
   "metadata": {},
   "outputs": [
    {
     "name": "stdout",
     "output_type": "stream",
     "text": [
      "Попробуем подобрать параметры для рандомного леса, чтобы он выдавал результаты лучше\n"
     ]
    }
   ],
   "source": [
    "print('Попробуем подобрать параметры для рандомного леса, чтобы он выдавал результаты лучше')"
   ]
  },
  {
   "cell_type": "code",
   "execution_count": 58,
   "id": "1eb935fa",
   "metadata": {},
   "outputs": [],
   "source": [
    "# еще раз задаю модель рандомного леса\n",
    "rfc = RandomForestClassifier(random_state=42) # было 42"
   ]
  },
  {
   "cell_type": "code",
   "execution_count": 59,
   "id": "75d146da",
   "metadata": {},
   "outputs": [
    {
     "name": "stdout",
     "output_type": "stream",
     "text": [
      "Fitting 3 folds for each of 100 candidates, totalling 300 fits\n"
     ]
    },
    {
     "data": {
      "text/plain": [
       "{'n_estimators': 400,\n",
       " 'min_samples_split': 12,\n",
       " 'min_samples_leaf': 2,\n",
       " 'max_features': 'log2',\n",
       " 'max_depth': 9,\n",
       " 'bootstrap': True}"
      ]
     },
     "execution_count": 59,
     "metadata": {},
     "output_type": "execute_result"
    }
   ],
   "source": [
    "from sklearn.model_selection import RandomizedSearchCV\n",
    "# в переменных заключаю значеняия параметров, которые будут перебираться\n",
    "n_estimators = [int(x) for x in np.linspace(start = 100, stop = 1000, num = 10)]\n",
    "max_features = ['log2', 'sqrt']\n",
    "max_depth = [int(x) for x in np.linspace(start = 1, stop = 15, num = 15)]\n",
    "min_samples_split = [int(x) for x in np.linspace(start = 2, stop = 50, num = 10)]\n",
    "min_samples_leaf = [int(x) for x in np.linspace(start = 2, stop = 50, num = 10)]\n",
    "bootstrap = [True, False]\n",
    "# для удобства формирую словарь\n",
    "param_dist = {'n_estimators': n_estimators,\n",
    "               'max_features': max_features,\n",
    "               'max_depth': max_depth,\n",
    "               'min_samples_split': min_samples_split,\n",
    "               'min_samples_leaf': min_samples_leaf,\n",
    "               'bootstrap': bootstrap}\n",
    "rs = RandomizedSearchCV(rfc, \n",
    "                        param_dist, \n",
    "                        n_iter = 100,\n",
    "                        scoring=\"roc_auc\",\n",
    "                        cv = 3, \n",
    "                        verbose = 1, \n",
    "                        n_jobs=-1, \n",
    "                        random_state=42)\n",
    "rs.fit(X_train_scaled, y_train)\n",
    "# обучаю модель\n",
    "rs.best_params_\n",
    "# вывожу лучшие параметры\n",
    "# Источник: https://habr.com/ru/companies/ruvds/articles/488342/"
   ]
  },
  {
   "cell_type": "code",
   "execution_count": 60,
   "id": "916405dd",
   "metadata": {},
   "outputs": [
    {
     "data": {
      "text/plain": [
       "RandomForestClassifier(max_depth=9, max_features='log2', min_samples_leaf=2,\n",
       "                       min_samples_split=12, n_estimators=400, random_state=42)"
      ]
     },
     "execution_count": 60,
     "metadata": {},
     "output_type": "execute_result"
    }
   ],
   "source": [
    "# задаю модель рандомного леса с подобранными лучшими параметрами\n",
    "rfc = RandomForestClassifier(n_estimators=400, min_samples_split=12, min_samples_leaf=2, max_features= 'log2', max_depth=9, bootstrap=True, random_state=42) # было 42\n",
    "rfc.fit(X_train_scaled, y_train)\n"
   ]
  },
  {
   "cell_type": "code",
   "execution_count": 61,
   "id": "ff5fd07a",
   "metadata": {},
   "outputs": [
    {
     "data": {
      "text/plain": [
       "array([[0.50345004, 0.49654996],\n",
       "       [0.62039108, 0.37960892],\n",
       "       [0.58140634, 0.41859366],\n",
       "       ...,\n",
       "       [0.55756244, 0.44243756],\n",
       "       [0.40450138, 0.59549862],\n",
       "       [0.66869408, 0.33130592]])"
      ]
     },
     "execution_count": 61,
     "metadata": {},
     "output_type": "execute_result"
    }
   ],
   "source": [
    "probas_rfc = rfc.predict_proba(X_test_scaled)\n",
    "probas_rfc # записываю вероятности, предсказанные моделью"
   ]
  },
  {
   "cell_type": "code",
   "execution_count": 62,
   "id": "1fdef0b9",
   "metadata": {},
   "outputs": [
    {
     "data": {
      "text/plain": [
       "0.8470021522263909"
      ]
     },
     "execution_count": 62,
     "metadata": {},
     "output_type": "execute_result"
    }
   ],
   "source": [
    "roc_auc_score(y_test, probas_rfc[:,-1]) # считаю рок-аук"
   ]
  },
  {
   "cell_type": "code",
   "execution_count": 63,
   "id": "f8b77148",
   "metadata": {},
   "outputs": [
    {
     "name": "stdout",
     "output_type": "stream",
     "text": [
      "Подобрав гиперпараметры, мы смогли улучшеть результат предсказания на 0.038244917546461865, что на самом деле прям круто и очень значительно\n"
     ]
    }
   ],
   "source": [
    "print(f'Подобрав гиперпараметры, мы смогли улучшеть результат предсказания на {roc_auc_score(y_test, probas_rfc[:,-1]) - first_model_result}, что на самом деле прям круто и очень значительно')"
   ]
  },
  {
   "cell_type": "markdown",
   "id": "74b7f055",
   "metadata": {},
   "source": [
    "Создадим бэггинг ансамбль, чтобы улучшить полученные результаты"
   ]
  },
  {
   "cell_type": "code",
   "execution_count": 64,
   "id": "9158d368",
   "metadata": {},
   "outputs": [
    {
     "name": "stdout",
     "output_type": "stream",
     "text": [
      "ROC AUC: 0.8481051682517523\n"
     ]
    }
   ],
   "source": [
    "\n",
    "base_model = rfc\n",
    "\n",
    "\n",
    "bagging_model = BaggingClassifier(base_model, n_estimators=30, random_state=101, n_jobs=-1) \n",
    "\n",
    "\n",
    "bagging_model.fit(X_train, y_train)\n",
    "\n",
    "\n",
    "probabilities = bagging_model.predict_proba(X_test)[:, 1]\n",
    "\n",
    "\n",
    "roc_auc = roc_auc_score(y_test, probabilities)\n",
    "print(\"ROC AUC:\", roc_auc)\n",
    "# Источник: https://www.helenkapatsa.ru/beghghingh/\n",
    "# Источник 2: ChatGPT: помог понять структуру"
   ]
  },
  {
   "cell_type": "code",
   "execution_count": 65,
   "id": "5668a0ec",
   "metadata": {},
   "outputs": [
    {
     "name": "stdout",
     "output_type": "stream",
     "text": [
      "Круто! Результат опять улучшился! Отрыв от первоначальной модели теперь составляет 0.03934793357182331. Попробуем бустинг, может быть, он покажет еще лучшие результаты\n"
     ]
    }
   ],
   "source": [
    "print(f'Круто! Результат опять улучшился! Отрыв от первоначальной модели теперь составляет {roc_auc-first_model_result}. Попробуем бустинг, может быть, он покажет еще лучшие результаты')"
   ]
  },
  {
   "cell_type": "code",
   "execution_count": 66,
   "id": "70436f41",
   "metadata": {},
   "outputs": [
    {
     "name": "stdout",
     "output_type": "stream",
     "text": [
      "ROC AUC: 0.8559506151295698\n"
     ]
    }
   ],
   "source": [
    "\n",
    "# Инициализируем базовую модель (в данном случае DecisionTreeClassifier)\n",
    "base_model = rfc\n",
    "\n",
    "# Инициализируем модель бустинга с использованием AdaBoostClassifier\n",
    "boosting_model = AdaBoostClassifier(base_model, n_estimators=30, random_state=101) \n",
    "\n",
    "# Обучаем модель бустинга на обучающих данных\n",
    "boosting_model.fit(X_train, y_train)\n",
    "\n",
    "# Получаем вероятности принадлежности к классу 1 для тестовых данных\n",
    "probabilities = boosting_model.predict_proba(X_test)[:, 1]\n",
    "\n",
    "# Вычисляем метрику ROC AUC\n",
    "roc_auc = roc_auc_score(y_test, probabilities)\n",
    "print(\"ROC AUC:\", roc_auc)\n",
    "# Источник: ChatGPT\n",
    "# Подводка: Исправь код так (выше), чтобы он использовал бустинг, а не беггинг"
   ]
  },
  {
   "cell_type": "code",
   "execution_count": 67,
   "id": "7a6fcf4d",
   "metadata": {},
   "outputs": [
    {
     "name": "stdout",
     "output_type": "stream",
     "text": [
      "И да, действительно, он показал более значемые результаты, увеличив отрыв от начального результата на 0.04719338044964083\n"
     ]
    }
   ],
   "source": [
    "print(f'И да, действительно, он показал более значемые результаты, увеличив отрыв от начального результата на {roc_auc-first_model_result}')"
   ]
  },
  {
   "cell_type": "code",
   "execution_count": null,
   "id": "dd361999",
   "metadata": {},
   "outputs": [],
   "source": []
  }
 ],
 "metadata": {
  "kernelspec": {
   "display_name": "Python 3 (ipykernel)",
   "language": "python",
   "name": "python3"
  },
  "language_info": {
   "codemirror_mode": {
    "name": "ipython",
    "version": 3
   },
   "file_extension": ".py",
   "mimetype": "text/x-python",
   "name": "python",
   "nbconvert_exporter": "python",
   "pygments_lexer": "ipython3",
   "version": "3.9.13"
  }
 },
 "nbformat": 4,
 "nbformat_minor": 5
}
